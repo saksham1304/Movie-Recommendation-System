{
 "cells": [
  {
   "cell_type": "code",
   "execution_count": 2,
   "id": "ed8fb759",
   "metadata": {},
   "outputs": [],
   "source": [
    "import numpy as ny\n",
    "import pandas as pd"
   ]
  },
  {
   "cell_type": "code",
   "execution_count": 3,
   "id": "e1961771",
   "metadata": {},
   "outputs": [],
   "source": [
    "movies=pd.read_csv(\"movies.csv\")"
   ]
  },
  {
   "cell_type": "code",
   "execution_count": 4,
   "id": "301be86d",
   "metadata": {},
   "outputs": [],
   "source": [
    "links=pd.read_csv(\"links.csv\")\n",
    "tags=pd.read_csv(\"tags.csv\")"
   ]
  },
  {
   "cell_type": "code",
   "execution_count": 5,
   "id": "ac25d2a2",
   "metadata": {},
   "outputs": [
    {
     "data": {
      "text/html": [
       "<div>\n",
       "<style scoped>\n",
       "    .dataframe tbody tr th:only-of-type {\n",
       "        vertical-align: middle;\n",
       "    }\n",
       "\n",
       "    .dataframe tbody tr th {\n",
       "        vertical-align: top;\n",
       "    }\n",
       "\n",
       "    .dataframe thead th {\n",
       "        text-align: right;\n",
       "    }\n",
       "</style>\n",
       "<table border=\"1\" class=\"dataframe\">\n",
       "  <thead>\n",
       "    <tr style=\"text-align: right;\">\n",
       "      <th></th>\n",
       "      <th>movieId</th>\n",
       "      <th>title</th>\n",
       "      <th>genres</th>\n",
       "    </tr>\n",
       "  </thead>\n",
       "  <tbody>\n",
       "    <tr>\n",
       "      <th>0</th>\n",
       "      <td>1</td>\n",
       "      <td>Toy Story (1995)</td>\n",
       "      <td>Adventure|Animation|Children|Comedy|Fantasy</td>\n",
       "    </tr>\n",
       "    <tr>\n",
       "      <th>1</th>\n",
       "      <td>2</td>\n",
       "      <td>Jumanji (1995)</td>\n",
       "      <td>Adventure|Children|Fantasy</td>\n",
       "    </tr>\n",
       "    <tr>\n",
       "      <th>2</th>\n",
       "      <td>3</td>\n",
       "      <td>Grumpier Old Men (1995)</td>\n",
       "      <td>Comedy|Romance</td>\n",
       "    </tr>\n",
       "    <tr>\n",
       "      <th>3</th>\n",
       "      <td>4</td>\n",
       "      <td>Waiting to Exhale (1995)</td>\n",
       "      <td>Comedy|Drama|Romance</td>\n",
       "    </tr>\n",
       "    <tr>\n",
       "      <th>4</th>\n",
       "      <td>5</td>\n",
       "      <td>Father of the Bride Part II (1995)</td>\n",
       "      <td>Comedy</td>\n",
       "    </tr>\n",
       "  </tbody>\n",
       "</table>\n",
       "</div>"
      ],
      "text/plain": [
       "   movieId                               title  \\\n",
       "0        1                    Toy Story (1995)   \n",
       "1        2                      Jumanji (1995)   \n",
       "2        3             Grumpier Old Men (1995)   \n",
       "3        4            Waiting to Exhale (1995)   \n",
       "4        5  Father of the Bride Part II (1995)   \n",
       "\n",
       "                                        genres  \n",
       "0  Adventure|Animation|Children|Comedy|Fantasy  \n",
       "1                   Adventure|Children|Fantasy  \n",
       "2                               Comedy|Romance  \n",
       "3                         Comedy|Drama|Romance  \n",
       "4                                       Comedy  "
      ]
     },
     "execution_count": 5,
     "metadata": {},
     "output_type": "execute_result"
    }
   ],
   "source": [
    "movies.head()"
   ]
  },
  {
   "cell_type": "code",
   "execution_count": 6,
   "id": "d69fc17c",
   "metadata": {},
   "outputs": [
    {
     "data": {
      "text/html": [
       "<div>\n",
       "<style scoped>\n",
       "    .dataframe tbody tr th:only-of-type {\n",
       "        vertical-align: middle;\n",
       "    }\n",
       "\n",
       "    .dataframe tbody tr th {\n",
       "        vertical-align: top;\n",
       "    }\n",
       "\n",
       "    .dataframe thead th {\n",
       "        text-align: right;\n",
       "    }\n",
       "</style>\n",
       "<table border=\"1\" class=\"dataframe\">\n",
       "  <thead>\n",
       "    <tr style=\"text-align: right;\">\n",
       "      <th></th>\n",
       "      <th>movieId</th>\n",
       "      <th>imdbId</th>\n",
       "      <th>tmdbId</th>\n",
       "    </tr>\n",
       "  </thead>\n",
       "  <tbody>\n",
       "    <tr>\n",
       "      <th>0</th>\n",
       "      <td>1</td>\n",
       "      <td>114709</td>\n",
       "      <td>862.0</td>\n",
       "    </tr>\n",
       "    <tr>\n",
       "      <th>1</th>\n",
       "      <td>2</td>\n",
       "      <td>113497</td>\n",
       "      <td>8844.0</td>\n",
       "    </tr>\n",
       "    <tr>\n",
       "      <th>2</th>\n",
       "      <td>3</td>\n",
       "      <td>113228</td>\n",
       "      <td>15602.0</td>\n",
       "    </tr>\n",
       "    <tr>\n",
       "      <th>3</th>\n",
       "      <td>4</td>\n",
       "      <td>114885</td>\n",
       "      <td>31357.0</td>\n",
       "    </tr>\n",
       "    <tr>\n",
       "      <th>4</th>\n",
       "      <td>5</td>\n",
       "      <td>113041</td>\n",
       "      <td>11862.0</td>\n",
       "    </tr>\n",
       "  </tbody>\n",
       "</table>\n",
       "</div>"
      ],
      "text/plain": [
       "   movieId  imdbId   tmdbId\n",
       "0        1  114709    862.0\n",
       "1        2  113497   8844.0\n",
       "2        3  113228  15602.0\n",
       "3        4  114885  31357.0\n",
       "4        5  113041  11862.0"
      ]
     },
     "execution_count": 6,
     "metadata": {},
     "output_type": "execute_result"
    }
   ],
   "source": [
    "links.head()"
   ]
  },
  {
   "cell_type": "code",
   "execution_count": 7,
   "id": "cec061dc",
   "metadata": {},
   "outputs": [
    {
     "data": {
      "text/html": [
       "<div>\n",
       "<style scoped>\n",
       "    .dataframe tbody tr th:only-of-type {\n",
       "        vertical-align: middle;\n",
       "    }\n",
       "\n",
       "    .dataframe tbody tr th {\n",
       "        vertical-align: top;\n",
       "    }\n",
       "\n",
       "    .dataframe thead th {\n",
       "        text-align: right;\n",
       "    }\n",
       "</style>\n",
       "<table border=\"1\" class=\"dataframe\">\n",
       "  <thead>\n",
       "    <tr style=\"text-align: right;\">\n",
       "      <th></th>\n",
       "      <th>userId</th>\n",
       "      <th>movieId</th>\n",
       "      <th>tag</th>\n",
       "      <th>timestamp</th>\n",
       "    </tr>\n",
       "  </thead>\n",
       "  <tbody>\n",
       "    <tr>\n",
       "      <th>0</th>\n",
       "      <td>2</td>\n",
       "      <td>60756</td>\n",
       "      <td>funny</td>\n",
       "      <td>1445714994</td>\n",
       "    </tr>\n",
       "    <tr>\n",
       "      <th>1</th>\n",
       "      <td>2</td>\n",
       "      <td>60756</td>\n",
       "      <td>Highly quotable</td>\n",
       "      <td>1445714996</td>\n",
       "    </tr>\n",
       "    <tr>\n",
       "      <th>2</th>\n",
       "      <td>2</td>\n",
       "      <td>60756</td>\n",
       "      <td>will ferrell</td>\n",
       "      <td>1445714992</td>\n",
       "    </tr>\n",
       "    <tr>\n",
       "      <th>3</th>\n",
       "      <td>2</td>\n",
       "      <td>89774</td>\n",
       "      <td>Boxing story</td>\n",
       "      <td>1445715207</td>\n",
       "    </tr>\n",
       "    <tr>\n",
       "      <th>4</th>\n",
       "      <td>2</td>\n",
       "      <td>89774</td>\n",
       "      <td>MMA</td>\n",
       "      <td>1445715200</td>\n",
       "    </tr>\n",
       "  </tbody>\n",
       "</table>\n",
       "</div>"
      ],
      "text/plain": [
       "   userId  movieId              tag   timestamp\n",
       "0       2    60756            funny  1445714994\n",
       "1       2    60756  Highly quotable  1445714996\n",
       "2       2    60756     will ferrell  1445714992\n",
       "3       2    89774     Boxing story  1445715207\n",
       "4       2    89774              MMA  1445715200"
      ]
     },
     "execution_count": 7,
     "metadata": {},
     "output_type": "execute_result"
    }
   ],
   "source": [
    "tags.head()"
   ]
  },
  {
   "cell_type": "code",
   "execution_count": 8,
   "id": "eaca4654",
   "metadata": {},
   "outputs": [
    {
     "data": {
      "text/plain": [
       "(9742, 3)"
      ]
     },
     "execution_count": 8,
     "metadata": {},
     "output_type": "execute_result"
    }
   ],
   "source": [
    "movies.shape"
   ]
  },
  {
   "cell_type": "code",
   "execution_count": 9,
   "id": "e1a42f1a",
   "metadata": {},
   "outputs": [
    {
     "data": {
      "text/plain": [
       "(3683, 4)"
      ]
     },
     "execution_count": 9,
     "metadata": {},
     "output_type": "execute_result"
    }
   ],
   "source": [
    "tags.shape"
   ]
  },
  {
   "cell_type": "code",
   "execution_count": 10,
   "id": "e8a2127a",
   "metadata": {},
   "outputs": [
    {
     "data": {
      "text/plain": [
       "(9742, 3)"
      ]
     },
     "execution_count": 10,
     "metadata": {},
     "output_type": "execute_result"
    }
   ],
   "source": [
    "links.shape"
   ]
  },
  {
   "cell_type": "code",
   "execution_count": 11,
   "id": "7e6346a1",
   "metadata": {},
   "outputs": [],
   "source": [
    "movies=pd.merge(movies,links)"
   ]
  },
  {
   "cell_type": "code",
   "execution_count": 12,
   "id": "5055aed8",
   "metadata": {},
   "outputs": [
    {
     "data": {
      "text/plain": [
       "(9742, 5)"
      ]
     },
     "execution_count": 12,
     "metadata": {},
     "output_type": "execute_result"
    }
   ],
   "source": [
    "movies.shape"
   ]
  },
  {
   "cell_type": "code",
   "execution_count": 13,
   "id": "876d9135",
   "metadata": {},
   "outputs": [],
   "source": [
    "movies=pd.merge(movies,tags)"
   ]
  },
  {
   "cell_type": "code",
   "execution_count": 14,
   "id": "6e884ef1",
   "metadata": {},
   "outputs": [
    {
     "data": {
      "text/plain": [
       "(3683, 8)"
      ]
     },
     "execution_count": 14,
     "metadata": {},
     "output_type": "execute_result"
    }
   ],
   "source": [
    "movies.shape"
   ]
  },
  {
   "cell_type": "code",
   "execution_count": 15,
   "id": "b26e7be1",
   "metadata": {},
   "outputs": [
    {
     "data": {
      "text/html": [
       "<div>\n",
       "<style scoped>\n",
       "    .dataframe tbody tr th:only-of-type {\n",
       "        vertical-align: middle;\n",
       "    }\n",
       "\n",
       "    .dataframe tbody tr th {\n",
       "        vertical-align: top;\n",
       "    }\n",
       "\n",
       "    .dataframe thead th {\n",
       "        text-align: right;\n",
       "    }\n",
       "</style>\n",
       "<table border=\"1\" class=\"dataframe\">\n",
       "  <thead>\n",
       "    <tr style=\"text-align: right;\">\n",
       "      <th></th>\n",
       "      <th>movieId</th>\n",
       "      <th>title</th>\n",
       "      <th>genres</th>\n",
       "      <th>imdbId</th>\n",
       "      <th>tmdbId</th>\n",
       "      <th>userId</th>\n",
       "      <th>tag</th>\n",
       "      <th>timestamp</th>\n",
       "    </tr>\n",
       "  </thead>\n",
       "  <tbody>\n",
       "    <tr>\n",
       "      <th>0</th>\n",
       "      <td>1</td>\n",
       "      <td>Toy Story (1995)</td>\n",
       "      <td>Adventure|Animation|Children|Comedy|Fantasy</td>\n",
       "      <td>114709</td>\n",
       "      <td>862.0</td>\n",
       "      <td>336</td>\n",
       "      <td>pixar</td>\n",
       "      <td>1139045764</td>\n",
       "    </tr>\n",
       "    <tr>\n",
       "      <th>1</th>\n",
       "      <td>1</td>\n",
       "      <td>Toy Story (1995)</td>\n",
       "      <td>Adventure|Animation|Children|Comedy|Fantasy</td>\n",
       "      <td>114709</td>\n",
       "      <td>862.0</td>\n",
       "      <td>474</td>\n",
       "      <td>pixar</td>\n",
       "      <td>1137206825</td>\n",
       "    </tr>\n",
       "    <tr>\n",
       "      <th>2</th>\n",
       "      <td>1</td>\n",
       "      <td>Toy Story (1995)</td>\n",
       "      <td>Adventure|Animation|Children|Comedy|Fantasy</td>\n",
       "      <td>114709</td>\n",
       "      <td>862.0</td>\n",
       "      <td>567</td>\n",
       "      <td>fun</td>\n",
       "      <td>1525286013</td>\n",
       "    </tr>\n",
       "    <tr>\n",
       "      <th>3</th>\n",
       "      <td>2</td>\n",
       "      <td>Jumanji (1995)</td>\n",
       "      <td>Adventure|Children|Fantasy</td>\n",
       "      <td>113497</td>\n",
       "      <td>8844.0</td>\n",
       "      <td>62</td>\n",
       "      <td>fantasy</td>\n",
       "      <td>1528843929</td>\n",
       "    </tr>\n",
       "    <tr>\n",
       "      <th>4</th>\n",
       "      <td>2</td>\n",
       "      <td>Jumanji (1995)</td>\n",
       "      <td>Adventure|Children|Fantasy</td>\n",
       "      <td>113497</td>\n",
       "      <td>8844.0</td>\n",
       "      <td>62</td>\n",
       "      <td>magic board game</td>\n",
       "      <td>1528843932</td>\n",
       "    </tr>\n",
       "  </tbody>\n",
       "</table>\n",
       "</div>"
      ],
      "text/plain": [
       "   movieId             title                                       genres  \\\n",
       "0        1  Toy Story (1995)  Adventure|Animation|Children|Comedy|Fantasy   \n",
       "1        1  Toy Story (1995)  Adventure|Animation|Children|Comedy|Fantasy   \n",
       "2        1  Toy Story (1995)  Adventure|Animation|Children|Comedy|Fantasy   \n",
       "3        2    Jumanji (1995)                   Adventure|Children|Fantasy   \n",
       "4        2    Jumanji (1995)                   Adventure|Children|Fantasy   \n",
       "\n",
       "   imdbId  tmdbId  userId               tag   timestamp  \n",
       "0  114709   862.0     336             pixar  1139045764  \n",
       "1  114709   862.0     474             pixar  1137206825  \n",
       "2  114709   862.0     567               fun  1525286013  \n",
       "3  113497  8844.0      62           fantasy  1528843929  \n",
       "4  113497  8844.0      62  magic board game  1528843932  "
      ]
     },
     "execution_count": 15,
     "metadata": {},
     "output_type": "execute_result"
    }
   ],
   "source": [
    "movies.head()"
   ]
  },
  {
   "cell_type": "code",
   "execution_count": 16,
   "id": "8d35db70",
   "metadata": {},
   "outputs": [],
   "source": [
    "\n",
    "#movieId\n",
    "#title\n",
    "#genres\n",
    "#tags\n",
    "movies=movies[['movieId','title','genres','tag']]"
   ]
  },
  {
   "cell_type": "code",
   "execution_count": 17,
   "id": "03c33916",
   "metadata": {},
   "outputs": [
    {
     "data": {
      "text/html": [
       "<div>\n",
       "<style scoped>\n",
       "    .dataframe tbody tr th:only-of-type {\n",
       "        vertical-align: middle;\n",
       "    }\n",
       "\n",
       "    .dataframe tbody tr th {\n",
       "        vertical-align: top;\n",
       "    }\n",
       "\n",
       "    .dataframe thead th {\n",
       "        text-align: right;\n",
       "    }\n",
       "</style>\n",
       "<table border=\"1\" class=\"dataframe\">\n",
       "  <thead>\n",
       "    <tr style=\"text-align: right;\">\n",
       "      <th></th>\n",
       "      <th>movieId</th>\n",
       "      <th>title</th>\n",
       "      <th>genres</th>\n",
       "      <th>tag</th>\n",
       "    </tr>\n",
       "  </thead>\n",
       "  <tbody>\n",
       "    <tr>\n",
       "      <th>0</th>\n",
       "      <td>1</td>\n",
       "      <td>Toy Story (1995)</td>\n",
       "      <td>Adventure|Animation|Children|Comedy|Fantasy</td>\n",
       "      <td>pixar</td>\n",
       "    </tr>\n",
       "    <tr>\n",
       "      <th>1</th>\n",
       "      <td>1</td>\n",
       "      <td>Toy Story (1995)</td>\n",
       "      <td>Adventure|Animation|Children|Comedy|Fantasy</td>\n",
       "      <td>pixar</td>\n",
       "    </tr>\n",
       "    <tr>\n",
       "      <th>2</th>\n",
       "      <td>1</td>\n",
       "      <td>Toy Story (1995)</td>\n",
       "      <td>Adventure|Animation|Children|Comedy|Fantasy</td>\n",
       "      <td>fun</td>\n",
       "    </tr>\n",
       "    <tr>\n",
       "      <th>3</th>\n",
       "      <td>2</td>\n",
       "      <td>Jumanji (1995)</td>\n",
       "      <td>Adventure|Children|Fantasy</td>\n",
       "      <td>fantasy</td>\n",
       "    </tr>\n",
       "    <tr>\n",
       "      <th>4</th>\n",
       "      <td>2</td>\n",
       "      <td>Jumanji (1995)</td>\n",
       "      <td>Adventure|Children|Fantasy</td>\n",
       "      <td>magic board game</td>\n",
       "    </tr>\n",
       "  </tbody>\n",
       "</table>\n",
       "</div>"
      ],
      "text/plain": [
       "   movieId             title                                       genres  \\\n",
       "0        1  Toy Story (1995)  Adventure|Animation|Children|Comedy|Fantasy   \n",
       "1        1  Toy Story (1995)  Adventure|Animation|Children|Comedy|Fantasy   \n",
       "2        1  Toy Story (1995)  Adventure|Animation|Children|Comedy|Fantasy   \n",
       "3        2    Jumanji (1995)                   Adventure|Children|Fantasy   \n",
       "4        2    Jumanji (1995)                   Adventure|Children|Fantasy   \n",
       "\n",
       "                tag  \n",
       "0             pixar  \n",
       "1             pixar  \n",
       "2               fun  \n",
       "3           fantasy  \n",
       "4  magic board game  "
      ]
     },
     "execution_count": 17,
     "metadata": {},
     "output_type": "execute_result"
    }
   ],
   "source": [
    "movies.head()"
   ]
  },
  {
   "cell_type": "code",
   "execution_count": 18,
   "id": "20bf90b2",
   "metadata": {},
   "outputs": [
    {
     "data": {
      "text/plain": [
       "movieId    0\n",
       "title      0\n",
       "genres     0\n",
       "tag        0\n",
       "dtype: int64"
      ]
     },
     "execution_count": 18,
     "metadata": {},
     "output_type": "execute_result"
    }
   ],
   "source": [
    "movies.isnull().sum()"
   ]
  },
  {
   "cell_type": "code",
   "execution_count": 19,
   "id": "b39b4a71",
   "metadata": {},
   "outputs": [
    {
     "data": {
      "text/plain": [
       "104"
      ]
     },
     "execution_count": 19,
     "metadata": {},
     "output_type": "execute_result"
    }
   ],
   "source": [
    "movies.duplicated().sum()"
   ]
  },
  {
   "cell_type": "code",
   "execution_count": 20,
   "id": "142bf94f",
   "metadata": {},
   "outputs": [
    {
     "data": {
      "text/html": [
       "<div>\n",
       "<style scoped>\n",
       "    .dataframe tbody tr th:only-of-type {\n",
       "        vertical-align: middle;\n",
       "    }\n",
       "\n",
       "    .dataframe tbody tr th {\n",
       "        vertical-align: top;\n",
       "    }\n",
       "\n",
       "    .dataframe thead th {\n",
       "        text-align: right;\n",
       "    }\n",
       "</style>\n",
       "<table border=\"1\" class=\"dataframe\">\n",
       "  <thead>\n",
       "    <tr style=\"text-align: right;\">\n",
       "      <th></th>\n",
       "      <th>movieId</th>\n",
       "      <th>title</th>\n",
       "      <th>genres</th>\n",
       "      <th>tag</th>\n",
       "    </tr>\n",
       "  </thead>\n",
       "  <tbody>\n",
       "    <tr>\n",
       "      <th>1</th>\n",
       "      <td>1</td>\n",
       "      <td>Toy Story (1995)</td>\n",
       "      <td>Adventure|Animation|Children|Comedy|Fantasy</td>\n",
       "      <td>pixar</td>\n",
       "    </tr>\n",
       "    <tr>\n",
       "      <th>28</th>\n",
       "      <td>32</td>\n",
       "      <td>Twelve Monkeys (a.k.a. 12 Monkeys) (1995)</td>\n",
       "      <td>Mystery|Sci-Fi|Thriller</td>\n",
       "      <td>time travel</td>\n",
       "    </tr>\n",
       "    <tr>\n",
       "      <th>35</th>\n",
       "      <td>32</td>\n",
       "      <td>Twelve Monkeys (a.k.a. 12 Monkeys) (1995)</td>\n",
       "      <td>Mystery|Sci-Fi|Thriller</td>\n",
       "      <td>time travel</td>\n",
       "    </tr>\n",
       "    <tr>\n",
       "      <th>100</th>\n",
       "      <td>153</td>\n",
       "      <td>Batman Forever (1995)</td>\n",
       "      <td>Action|Adventure|Comedy|Crime</td>\n",
       "      <td>superhero</td>\n",
       "    </tr>\n",
       "    <tr>\n",
       "      <th>143</th>\n",
       "      <td>260</td>\n",
       "      <td>Star Wars: Episode IV - A New Hope (1977)</td>\n",
       "      <td>Action|Adventure|Sci-Fi</td>\n",
       "      <td>EPIC</td>\n",
       "    </tr>\n",
       "    <tr>\n",
       "      <th>...</th>\n",
       "      <td>...</td>\n",
       "      <td>...</td>\n",
       "      <td>...</td>\n",
       "      <td>...</td>\n",
       "    </tr>\n",
       "    <tr>\n",
       "      <th>3349</th>\n",
       "      <td>105504</td>\n",
       "      <td>Captain Phillips (2013)</td>\n",
       "      <td>Adventure|Drama|Thriller|IMAX</td>\n",
       "      <td>suspense</td>\n",
       "    </tr>\n",
       "    <tr>\n",
       "      <th>3391</th>\n",
       "      <td>109487</td>\n",
       "      <td>Interstellar (2014)</td>\n",
       "      <td>Sci-Fi|IMAX</td>\n",
       "      <td>sci-fi</td>\n",
       "    </tr>\n",
       "    <tr>\n",
       "      <th>3392</th>\n",
       "      <td>109487</td>\n",
       "      <td>Interstellar (2014)</td>\n",
       "      <td>Sci-Fi|IMAX</td>\n",
       "      <td>time-travel</td>\n",
       "    </tr>\n",
       "    <tr>\n",
       "      <th>3498</th>\n",
       "      <td>122912</td>\n",
       "      <td>Avengers: Infinity War - Part I (2018)</td>\n",
       "      <td>Action|Adventure|Sci-Fi</td>\n",
       "      <td>Visually stunning</td>\n",
       "    </tr>\n",
       "    <tr>\n",
       "      <th>3572</th>\n",
       "      <td>139385</td>\n",
       "      <td>The Revenant (2015)</td>\n",
       "      <td>Adventure|Drama</td>\n",
       "      <td>visually appealing</td>\n",
       "    </tr>\n",
       "  </tbody>\n",
       "</table>\n",
       "<p>104 rows × 4 columns</p>\n",
       "</div>"
      ],
      "text/plain": [
       "      movieId                                      title  \\\n",
       "1           1                           Toy Story (1995)   \n",
       "28         32  Twelve Monkeys (a.k.a. 12 Monkeys) (1995)   \n",
       "35         32  Twelve Monkeys (a.k.a. 12 Monkeys) (1995)   \n",
       "100       153                      Batman Forever (1995)   \n",
       "143       260  Star Wars: Episode IV - A New Hope (1977)   \n",
       "...       ...                                        ...   \n",
       "3349   105504                    Captain Phillips (2013)   \n",
       "3391   109487                        Interstellar (2014)   \n",
       "3392   109487                        Interstellar (2014)   \n",
       "3498   122912     Avengers: Infinity War - Part I (2018)   \n",
       "3572   139385                        The Revenant (2015)   \n",
       "\n",
       "                                           genres                 tag  \n",
       "1     Adventure|Animation|Children|Comedy|Fantasy               pixar  \n",
       "28                        Mystery|Sci-Fi|Thriller         time travel  \n",
       "35                        Mystery|Sci-Fi|Thriller         time travel  \n",
       "100                 Action|Adventure|Comedy|Crime           superhero  \n",
       "143                       Action|Adventure|Sci-Fi                EPIC  \n",
       "...                                           ...                 ...  \n",
       "3349                Adventure|Drama|Thriller|IMAX            suspense  \n",
       "3391                                  Sci-Fi|IMAX              sci-fi  \n",
       "3392                                  Sci-Fi|IMAX         time-travel  \n",
       "3498                      Action|Adventure|Sci-Fi   Visually stunning  \n",
       "3572                              Adventure|Drama  visually appealing  \n",
       "\n",
       "[104 rows x 4 columns]"
      ]
     },
     "execution_count": 20,
     "metadata": {},
     "output_type": "execute_result"
    }
   ],
   "source": [
    "movies.loc[movies.duplicated(),:]"
   ]
  },
  {
   "cell_type": "code",
   "execution_count": 21,
   "id": "613c9d34",
   "metadata": {},
   "outputs": [
    {
     "data": {
      "text/plain": [
       "(3683, 4)"
      ]
     },
     "execution_count": 21,
     "metadata": {},
     "output_type": "execute_result"
    }
   ],
   "source": [
    "movies.shape"
   ]
  },
  {
   "cell_type": "code",
   "execution_count": 22,
   "id": "56db7f0a",
   "metadata": {},
   "outputs": [
    {
     "data": {
      "text/plain": [
       "3579"
      ]
     },
     "execution_count": 22,
     "metadata": {},
     "output_type": "execute_result"
    }
   ],
   "source": [
    "3683-104"
   ]
  },
  {
   "cell_type": "code",
   "execution_count": 23,
   "id": "7ccf5452",
   "metadata": {},
   "outputs": [],
   "source": [
    "movies=movies.drop_duplicates(keep='first')"
   ]
  },
  {
   "cell_type": "code",
   "execution_count": 24,
   "id": "04ea9bf8",
   "metadata": {},
   "outputs": [
    {
     "data": {
      "text/plain": [
       "movieId    0\n",
       "title      0\n",
       "genres     0\n",
       "tag        0\n",
       "dtype: int64"
      ]
     },
     "execution_count": 24,
     "metadata": {},
     "output_type": "execute_result"
    }
   ],
   "source": [
    "movies.isnull().sum()"
   ]
  },
  {
   "cell_type": "code",
   "execution_count": 25,
   "id": "81b6ab7a",
   "metadata": {},
   "outputs": [
    {
     "data": {
      "text/plain": [
       "(3579, 4)"
      ]
     },
     "execution_count": 25,
     "metadata": {},
     "output_type": "execute_result"
    }
   ],
   "source": [
    "movies.shape"
   ]
  },
  {
   "cell_type": "code",
   "execution_count": 26,
   "id": "68c1a224",
   "metadata": {},
   "outputs": [
    {
     "data": {
      "text/plain": [
       "0"
      ]
     },
     "execution_count": 26,
     "metadata": {},
     "output_type": "execute_result"
    }
   ],
   "source": [
    "movies.duplicated().sum()"
   ]
  },
  {
   "cell_type": "code",
   "execution_count": 27,
   "id": "5d50f29f",
   "metadata": {},
   "outputs": [
    {
     "data": {
      "text/html": [
       "<div>\n",
       "<style scoped>\n",
       "    .dataframe tbody tr th:only-of-type {\n",
       "        vertical-align: middle;\n",
       "    }\n",
       "\n",
       "    .dataframe tbody tr th {\n",
       "        vertical-align: top;\n",
       "    }\n",
       "\n",
       "    .dataframe thead th {\n",
       "        text-align: right;\n",
       "    }\n",
       "</style>\n",
       "<table border=\"1\" class=\"dataframe\">\n",
       "  <thead>\n",
       "    <tr style=\"text-align: right;\">\n",
       "      <th></th>\n",
       "      <th>movieId</th>\n",
       "      <th>title</th>\n",
       "      <th>genres</th>\n",
       "      <th>tag</th>\n",
       "    </tr>\n",
       "  </thead>\n",
       "  <tbody>\n",
       "    <tr>\n",
       "      <th>0</th>\n",
       "      <td>1</td>\n",
       "      <td>Toy Story (1995)</td>\n",
       "      <td>Adventure|Animation|Children|Comedy|Fantasy</td>\n",
       "      <td>pixar</td>\n",
       "    </tr>\n",
       "    <tr>\n",
       "      <th>2</th>\n",
       "      <td>1</td>\n",
       "      <td>Toy Story (1995)</td>\n",
       "      <td>Adventure|Animation|Children|Comedy|Fantasy</td>\n",
       "      <td>fun</td>\n",
       "    </tr>\n",
       "    <tr>\n",
       "      <th>3</th>\n",
       "      <td>2</td>\n",
       "      <td>Jumanji (1995)</td>\n",
       "      <td>Adventure|Children|Fantasy</td>\n",
       "      <td>fantasy</td>\n",
       "    </tr>\n",
       "    <tr>\n",
       "      <th>4</th>\n",
       "      <td>2</td>\n",
       "      <td>Jumanji (1995)</td>\n",
       "      <td>Adventure|Children|Fantasy</td>\n",
       "      <td>magic board game</td>\n",
       "    </tr>\n",
       "    <tr>\n",
       "      <th>5</th>\n",
       "      <td>2</td>\n",
       "      <td>Jumanji (1995)</td>\n",
       "      <td>Adventure|Children|Fantasy</td>\n",
       "      <td>Robin Williams</td>\n",
       "    </tr>\n",
       "  </tbody>\n",
       "</table>\n",
       "</div>"
      ],
      "text/plain": [
       "   movieId             title                                       genres  \\\n",
       "0        1  Toy Story (1995)  Adventure|Animation|Children|Comedy|Fantasy   \n",
       "2        1  Toy Story (1995)  Adventure|Animation|Children|Comedy|Fantasy   \n",
       "3        2    Jumanji (1995)                   Adventure|Children|Fantasy   \n",
       "4        2    Jumanji (1995)                   Adventure|Children|Fantasy   \n",
       "5        2    Jumanji (1995)                   Adventure|Children|Fantasy   \n",
       "\n",
       "                tag  \n",
       "0             pixar  \n",
       "2               fun  \n",
       "3           fantasy  \n",
       "4  magic board game  \n",
       "5    Robin Williams  "
      ]
     },
     "execution_count": 27,
     "metadata": {},
     "output_type": "execute_result"
    }
   ],
   "source": [
    "movies.head()"
   ]
  },
  {
   "cell_type": "code",
   "execution_count": 28,
   "id": "fd5a6eee",
   "metadata": {},
   "outputs": [
    {
     "data": {
      "text/plain": [
       "movieId                                 40\n",
       "title      Cry, the Beloved Country (1995)\n",
       "genres                               Drama\n",
       "tag                       In Netflix queue\n",
       "Name: 50, dtype: object"
      ]
     },
     "execution_count": 28,
     "metadata": {},
     "output_type": "execute_result"
    }
   ],
   "source": [
    "movies.iloc[47]"
   ]
  },
  {
   "cell_type": "code",
   "execution_count": 29,
   "id": "1666f753",
   "metadata": {},
   "outputs": [
    {
     "data": {
      "text/plain": [
       "2007"
      ]
     },
     "execution_count": 29,
     "metadata": {},
     "output_type": "execute_result"
    }
   ],
   "source": [
    "movies.duplicated(subset=['title']).sum()"
   ]
  },
  {
   "cell_type": "code",
   "execution_count": 30,
   "id": "73acdfd0",
   "metadata": {},
   "outputs": [],
   "source": [
    "movies=movies.drop_duplicates(subset=['title'])"
   ]
  },
  {
   "cell_type": "code",
   "execution_count": 31,
   "id": "1e40ffb2",
   "metadata": {},
   "outputs": [
    {
     "data": {
      "text/plain": [
       "movieId    0\n",
       "title      0\n",
       "genres     0\n",
       "tag        0\n",
       "dtype: int64"
      ]
     },
     "execution_count": 31,
     "metadata": {},
     "output_type": "execute_result"
    }
   ],
   "source": [
    "movies.isnull().sum()"
   ]
  },
  {
   "cell_type": "code",
   "execution_count": 32,
   "id": "5492cb72",
   "metadata": {},
   "outputs": [
    {
     "data": {
      "text/plain": [
       "(1572, 4)"
      ]
     },
     "execution_count": 32,
     "metadata": {},
     "output_type": "execute_result"
    }
   ],
   "source": [
    "movies.shape"
   ]
  },
  {
   "cell_type": "code",
   "execution_count": 33,
   "id": "ad10990c",
   "metadata": {
    "scrolled": true
   },
   "outputs": [
    {
     "data": {
      "text/html": [
       "<div>\n",
       "<style scoped>\n",
       "    .dataframe tbody tr th:only-of-type {\n",
       "        vertical-align: middle;\n",
       "    }\n",
       "\n",
       "    .dataframe tbody tr th {\n",
       "        vertical-align: top;\n",
       "    }\n",
       "\n",
       "    .dataframe thead th {\n",
       "        text-align: right;\n",
       "    }\n",
       "</style>\n",
       "<table border=\"1\" class=\"dataframe\">\n",
       "  <thead>\n",
       "    <tr style=\"text-align: right;\">\n",
       "      <th></th>\n",
       "      <th>movieId</th>\n",
       "      <th>title</th>\n",
       "      <th>genres</th>\n",
       "      <th>tag</th>\n",
       "    </tr>\n",
       "  </thead>\n",
       "  <tbody>\n",
       "    <tr>\n",
       "      <th>0</th>\n",
       "      <td>1</td>\n",
       "      <td>Toy Story (1995)</td>\n",
       "      <td>Adventure|Animation|Children|Comedy|Fantasy</td>\n",
       "      <td>pixar</td>\n",
       "    </tr>\n",
       "    <tr>\n",
       "      <th>3</th>\n",
       "      <td>2</td>\n",
       "      <td>Jumanji (1995)</td>\n",
       "      <td>Adventure|Children|Fantasy</td>\n",
       "      <td>fantasy</td>\n",
       "    </tr>\n",
       "    <tr>\n",
       "      <th>7</th>\n",
       "      <td>3</td>\n",
       "      <td>Grumpier Old Men (1995)</td>\n",
       "      <td>Comedy|Romance</td>\n",
       "      <td>moldy</td>\n",
       "    </tr>\n",
       "    <tr>\n",
       "      <th>9</th>\n",
       "      <td>5</td>\n",
       "      <td>Father of the Bride Part II (1995)</td>\n",
       "      <td>Comedy</td>\n",
       "      <td>pregnancy</td>\n",
       "    </tr>\n",
       "    <tr>\n",
       "      <th>11</th>\n",
       "      <td>7</td>\n",
       "      <td>Sabrina (1995)</td>\n",
       "      <td>Comedy|Romance</td>\n",
       "      <td>remake</td>\n",
       "    </tr>\n",
       "  </tbody>\n",
       "</table>\n",
       "</div>"
      ],
      "text/plain": [
       "    movieId                               title  \\\n",
       "0         1                    Toy Story (1995)   \n",
       "3         2                      Jumanji (1995)   \n",
       "7         3             Grumpier Old Men (1995)   \n",
       "9         5  Father of the Bride Part II (1995)   \n",
       "11        7                      Sabrina (1995)   \n",
       "\n",
       "                                         genres        tag  \n",
       "0   Adventure|Animation|Children|Comedy|Fantasy      pixar  \n",
       "3                    Adventure|Children|Fantasy    fantasy  \n",
       "7                                Comedy|Romance      moldy  \n",
       "9                                        Comedy  pregnancy  \n",
       "11                               Comedy|Romance     remake  "
      ]
     },
     "execution_count": 33,
     "metadata": {},
     "output_type": "execute_result"
    }
   ],
   "source": [
    "movies.head()"
   ]
  },
  {
   "cell_type": "code",
   "execution_count": 34,
   "id": "6b3add78",
   "metadata": {},
   "outputs": [
    {
     "data": {
      "text/plain": [
       "['ohji']"
      ]
     },
     "execution_count": 34,
     "metadata": {},
     "output_type": "execute_result"
    }
   ],
   "source": [
    "'ohji'.split('|')"
   ]
  },
  {
   "cell_type": "code",
   "execution_count": 35,
   "id": "90e9bc33",
   "metadata": {},
   "outputs": [
    {
     "data": {
      "text/plain": [
       "movieId              175\n",
       "title        Kids (1995)\n",
       "genres             Drama\n",
       "tag        controversial\n",
       "Name: 104, dtype: object"
      ]
     },
     "execution_count": 35,
     "metadata": {},
     "output_type": "execute_result"
    }
   ],
   "source": [
    "movies.iloc[47]"
   ]
  },
  {
   "cell_type": "code",
   "execution_count": 36,
   "id": "c1cf8958",
   "metadata": {},
   "outputs": [
    {
     "data": {
      "text/html": [
       "<div>\n",
       "<style scoped>\n",
       "    .dataframe tbody tr th:only-of-type {\n",
       "        vertical-align: middle;\n",
       "    }\n",
       "\n",
       "    .dataframe tbody tr th {\n",
       "        vertical-align: top;\n",
       "    }\n",
       "\n",
       "    .dataframe thead th {\n",
       "        text-align: right;\n",
       "    }\n",
       "</style>\n",
       "<table border=\"1\" class=\"dataframe\">\n",
       "  <thead>\n",
       "    <tr style=\"text-align: right;\">\n",
       "      <th></th>\n",
       "      <th>movieId</th>\n",
       "      <th>title</th>\n",
       "      <th>genres</th>\n",
       "      <th>tag</th>\n",
       "    </tr>\n",
       "  </thead>\n",
       "  <tbody>\n",
       "    <tr>\n",
       "      <th>0</th>\n",
       "      <td>1</td>\n",
       "      <td>Toy Story (1995)</td>\n",
       "      <td>Adventure|Animation|Children|Comedy|Fantasy</td>\n",
       "      <td>pixar</td>\n",
       "    </tr>\n",
       "    <tr>\n",
       "      <th>3</th>\n",
       "      <td>2</td>\n",
       "      <td>Jumanji (1995)</td>\n",
       "      <td>Adventure|Children|Fantasy</td>\n",
       "      <td>fantasy</td>\n",
       "    </tr>\n",
       "    <tr>\n",
       "      <th>7</th>\n",
       "      <td>3</td>\n",
       "      <td>Grumpier Old Men (1995)</td>\n",
       "      <td>Comedy|Romance</td>\n",
       "      <td>moldy</td>\n",
       "    </tr>\n",
       "    <tr>\n",
       "      <th>9</th>\n",
       "      <td>5</td>\n",
       "      <td>Father of the Bride Part II (1995)</td>\n",
       "      <td>Comedy</td>\n",
       "      <td>pregnancy</td>\n",
       "    </tr>\n",
       "    <tr>\n",
       "      <th>11</th>\n",
       "      <td>7</td>\n",
       "      <td>Sabrina (1995)</td>\n",
       "      <td>Comedy|Romance</td>\n",
       "      <td>remake</td>\n",
       "    </tr>\n",
       "  </tbody>\n",
       "</table>\n",
       "</div>"
      ],
      "text/plain": [
       "    movieId                               title  \\\n",
       "0         1                    Toy Story (1995)   \n",
       "3         2                      Jumanji (1995)   \n",
       "7         3             Grumpier Old Men (1995)   \n",
       "9         5  Father of the Bride Part II (1995)   \n",
       "11        7                      Sabrina (1995)   \n",
       "\n",
       "                                         genres        tag  \n",
       "0   Adventure|Animation|Children|Comedy|Fantasy      pixar  \n",
       "3                    Adventure|Children|Fantasy    fantasy  \n",
       "7                                Comedy|Romance      moldy  \n",
       "9                                        Comedy  pregnancy  \n",
       "11                               Comedy|Romance     remake  "
      ]
     },
     "execution_count": 36,
     "metadata": {},
     "output_type": "execute_result"
    }
   ],
   "source": [
    "movies.head()"
   ]
  },
  {
   "cell_type": "code",
   "execution_count": 37,
   "id": "615b5654",
   "metadata": {},
   "outputs": [],
   "source": [
    "movies.genres=movies.genres.str.split('|')"
   ]
  },
  {
   "cell_type": "code",
   "execution_count": 38,
   "id": "ec778e32",
   "metadata": {},
   "outputs": [
    {
     "data": {
      "text/plain": [
       "movieId              175\n",
       "title        Kids (1995)\n",
       "genres           [Drama]\n",
       "tag        controversial\n",
       "Name: 104, dtype: object"
      ]
     },
     "execution_count": 38,
     "metadata": {},
     "output_type": "execute_result"
    }
   ],
   "source": [
    "movies.iloc[47]"
   ]
  },
  {
   "cell_type": "code",
   "execution_count": 39,
   "id": "efe48797",
   "metadata": {},
   "outputs": [
    {
     "data": {
      "text/html": [
       "<div>\n",
       "<style scoped>\n",
       "    .dataframe tbody tr th:only-of-type {\n",
       "        vertical-align: middle;\n",
       "    }\n",
       "\n",
       "    .dataframe tbody tr th {\n",
       "        vertical-align: top;\n",
       "    }\n",
       "\n",
       "    .dataframe thead th {\n",
       "        text-align: right;\n",
       "    }\n",
       "</style>\n",
       "<table border=\"1\" class=\"dataframe\">\n",
       "  <thead>\n",
       "    <tr style=\"text-align: right;\">\n",
       "      <th></th>\n",
       "      <th>movieId</th>\n",
       "      <th>title</th>\n",
       "      <th>genres</th>\n",
       "      <th>tag</th>\n",
       "    </tr>\n",
       "  </thead>\n",
       "  <tbody>\n",
       "    <tr>\n",
       "      <th>0</th>\n",
       "      <td>1</td>\n",
       "      <td>Toy Story (1995)</td>\n",
       "      <td>[Adventure, Animation, Children, Comedy, Fantasy]</td>\n",
       "      <td>pixar</td>\n",
       "    </tr>\n",
       "    <tr>\n",
       "      <th>3</th>\n",
       "      <td>2</td>\n",
       "      <td>Jumanji (1995)</td>\n",
       "      <td>[Adventure, Children, Fantasy]</td>\n",
       "      <td>fantasy</td>\n",
       "    </tr>\n",
       "    <tr>\n",
       "      <th>7</th>\n",
       "      <td>3</td>\n",
       "      <td>Grumpier Old Men (1995)</td>\n",
       "      <td>[Comedy, Romance]</td>\n",
       "      <td>moldy</td>\n",
       "    </tr>\n",
       "    <tr>\n",
       "      <th>9</th>\n",
       "      <td>5</td>\n",
       "      <td>Father of the Bride Part II (1995)</td>\n",
       "      <td>[Comedy]</td>\n",
       "      <td>pregnancy</td>\n",
       "    </tr>\n",
       "    <tr>\n",
       "      <th>11</th>\n",
       "      <td>7</td>\n",
       "      <td>Sabrina (1995)</td>\n",
       "      <td>[Comedy, Romance]</td>\n",
       "      <td>remake</td>\n",
       "    </tr>\n",
       "  </tbody>\n",
       "</table>\n",
       "</div>"
      ],
      "text/plain": [
       "    movieId                               title  \\\n",
       "0         1                    Toy Story (1995)   \n",
       "3         2                      Jumanji (1995)   \n",
       "7         3             Grumpier Old Men (1995)   \n",
       "9         5  Father of the Bride Part II (1995)   \n",
       "11        7                      Sabrina (1995)   \n",
       "\n",
       "                                               genres        tag  \n",
       "0   [Adventure, Animation, Children, Comedy, Fantasy]      pixar  \n",
       "3                      [Adventure, Children, Fantasy]    fantasy  \n",
       "7                                   [Comedy, Romance]      moldy  \n",
       "9                                            [Comedy]  pregnancy  \n",
       "11                                  [Comedy, Romance]     remake  "
      ]
     },
     "execution_count": 39,
     "metadata": {},
     "output_type": "execute_result"
    }
   ],
   "source": [
    "movies.head()"
   ]
  },
  {
   "cell_type": "code",
   "execution_count": 40,
   "id": "d62f6b4f",
   "metadata": {},
   "outputs": [
    {
     "data": {
      "text/plain": [
       "movieId    0\n",
       "title      0\n",
       "genres     0\n",
       "tag        0\n",
       "dtype: int64"
      ]
     },
     "execution_count": 40,
     "metadata": {},
     "output_type": "execute_result"
    }
   ],
   "source": [
    "movies.isnull().sum()"
   ]
  },
  {
   "cell_type": "code",
   "execution_count": 41,
   "id": "622198ec",
   "metadata": {},
   "outputs": [
    {
     "data": {
      "text/plain": [
       "(1572, 4)"
      ]
     },
     "execution_count": 41,
     "metadata": {},
     "output_type": "execute_result"
    }
   ],
   "source": [
    "movies.shape"
   ]
  },
  {
   "cell_type": "code",
   "execution_count": 42,
   "id": "4224261b",
   "metadata": {},
   "outputs": [],
   "source": [
    "movies.tag=movies.tag.str.split(' ')"
   ]
  },
  {
   "cell_type": "code",
   "execution_count": 43,
   "id": "92f53771",
   "metadata": {},
   "outputs": [
    {
     "data": {
      "text/html": [
       "<div>\n",
       "<style scoped>\n",
       "    .dataframe tbody tr th:only-of-type {\n",
       "        vertical-align: middle;\n",
       "    }\n",
       "\n",
       "    .dataframe tbody tr th {\n",
       "        vertical-align: top;\n",
       "    }\n",
       "\n",
       "    .dataframe thead th {\n",
       "        text-align: right;\n",
       "    }\n",
       "</style>\n",
       "<table border=\"1\" class=\"dataframe\">\n",
       "  <thead>\n",
       "    <tr style=\"text-align: right;\">\n",
       "      <th></th>\n",
       "      <th>movieId</th>\n",
       "      <th>title</th>\n",
       "      <th>genres</th>\n",
       "      <th>tag</th>\n",
       "    </tr>\n",
       "  </thead>\n",
       "  <tbody>\n",
       "    <tr>\n",
       "      <th>0</th>\n",
       "      <td>1</td>\n",
       "      <td>Toy Story (1995)</td>\n",
       "      <td>[Adventure, Animation, Children, Comedy, Fantasy]</td>\n",
       "      <td>[pixar]</td>\n",
       "    </tr>\n",
       "    <tr>\n",
       "      <th>3</th>\n",
       "      <td>2</td>\n",
       "      <td>Jumanji (1995)</td>\n",
       "      <td>[Adventure, Children, Fantasy]</td>\n",
       "      <td>[fantasy]</td>\n",
       "    </tr>\n",
       "    <tr>\n",
       "      <th>7</th>\n",
       "      <td>3</td>\n",
       "      <td>Grumpier Old Men (1995)</td>\n",
       "      <td>[Comedy, Romance]</td>\n",
       "      <td>[moldy]</td>\n",
       "    </tr>\n",
       "    <tr>\n",
       "      <th>9</th>\n",
       "      <td>5</td>\n",
       "      <td>Father of the Bride Part II (1995)</td>\n",
       "      <td>[Comedy]</td>\n",
       "      <td>[pregnancy]</td>\n",
       "    </tr>\n",
       "    <tr>\n",
       "      <th>11</th>\n",
       "      <td>7</td>\n",
       "      <td>Sabrina (1995)</td>\n",
       "      <td>[Comedy, Romance]</td>\n",
       "      <td>[remake]</td>\n",
       "    </tr>\n",
       "  </tbody>\n",
       "</table>\n",
       "</div>"
      ],
      "text/plain": [
       "    movieId                               title  \\\n",
       "0         1                    Toy Story (1995)   \n",
       "3         2                      Jumanji (1995)   \n",
       "7         3             Grumpier Old Men (1995)   \n",
       "9         5  Father of the Bride Part II (1995)   \n",
       "11        7                      Sabrina (1995)   \n",
       "\n",
       "                                               genres          tag  \n",
       "0   [Adventure, Animation, Children, Comedy, Fantasy]      [pixar]  \n",
       "3                      [Adventure, Children, Fantasy]    [fantasy]  \n",
       "7                                   [Comedy, Romance]      [moldy]  \n",
       "9                                            [Comedy]  [pregnancy]  \n",
       "11                                  [Comedy, Romance]     [remake]  "
      ]
     },
     "execution_count": 43,
     "metadata": {},
     "output_type": "execute_result"
    }
   ],
   "source": [
    "movies.head()"
   ]
  },
  {
   "cell_type": "code",
   "execution_count": 44,
   "id": "d6e1b302",
   "metadata": {},
   "outputs": [
    {
     "data": {
      "text/plain": [
       "movieId                175\n",
       "title          Kids (1995)\n",
       "genres             [Drama]\n",
       "tag        [controversial]\n",
       "Name: 104, dtype: object"
      ]
     },
     "execution_count": 44,
     "metadata": {},
     "output_type": "execute_result"
    }
   ],
   "source": [
    "movies.iloc[47]"
   ]
  },
  {
   "cell_type": "code",
   "execution_count": 45,
   "id": "d14edc08",
   "metadata": {},
   "outputs": [
    {
     "data": {
      "text/plain": [
       "movieId    0\n",
       "title      0\n",
       "genres     0\n",
       "tag        0\n",
       "dtype: int64"
      ]
     },
     "execution_count": 45,
     "metadata": {},
     "output_type": "execute_result"
    }
   ],
   "source": [
    "movies.isnull().sum()"
   ]
  },
  {
   "cell_type": "code",
   "execution_count": 46,
   "id": "1a8ed64a",
   "metadata": {},
   "outputs": [],
   "source": [
    "movies['genres']=movies['genres'].apply(lambda x:[i.replace(\" \",\"\")for i in x])"
   ]
  },
  {
   "cell_type": "code",
   "execution_count": 47,
   "id": "18729050",
   "metadata": {},
   "outputs": [],
   "source": [
    "movies['tag']=movies['tag'].apply(lambda x:[i.replace(\" \",\"\")for i in x])"
   ]
  },
  {
   "cell_type": "code",
   "execution_count": 48,
   "id": "b5c03b9f",
   "metadata": {},
   "outputs": [
    {
     "data": {
      "text/html": [
       "<div>\n",
       "<style scoped>\n",
       "    .dataframe tbody tr th:only-of-type {\n",
       "        vertical-align: middle;\n",
       "    }\n",
       "\n",
       "    .dataframe tbody tr th {\n",
       "        vertical-align: top;\n",
       "    }\n",
       "\n",
       "    .dataframe thead th {\n",
       "        text-align: right;\n",
       "    }\n",
       "</style>\n",
       "<table border=\"1\" class=\"dataframe\">\n",
       "  <thead>\n",
       "    <tr style=\"text-align: right;\">\n",
       "      <th></th>\n",
       "      <th>movieId</th>\n",
       "      <th>title</th>\n",
       "      <th>genres</th>\n",
       "      <th>tag</th>\n",
       "    </tr>\n",
       "  </thead>\n",
       "  <tbody>\n",
       "    <tr>\n",
       "      <th>0</th>\n",
       "      <td>1</td>\n",
       "      <td>Toy Story (1995)</td>\n",
       "      <td>[Adventure, Animation, Children, Comedy, Fantasy]</td>\n",
       "      <td>[pixar]</td>\n",
       "    </tr>\n",
       "    <tr>\n",
       "      <th>3</th>\n",
       "      <td>2</td>\n",
       "      <td>Jumanji (1995)</td>\n",
       "      <td>[Adventure, Children, Fantasy]</td>\n",
       "      <td>[fantasy]</td>\n",
       "    </tr>\n",
       "    <tr>\n",
       "      <th>7</th>\n",
       "      <td>3</td>\n",
       "      <td>Grumpier Old Men (1995)</td>\n",
       "      <td>[Comedy, Romance]</td>\n",
       "      <td>[moldy]</td>\n",
       "    </tr>\n",
       "    <tr>\n",
       "      <th>9</th>\n",
       "      <td>5</td>\n",
       "      <td>Father of the Bride Part II (1995)</td>\n",
       "      <td>[Comedy]</td>\n",
       "      <td>[pregnancy]</td>\n",
       "    </tr>\n",
       "    <tr>\n",
       "      <th>11</th>\n",
       "      <td>7</td>\n",
       "      <td>Sabrina (1995)</td>\n",
       "      <td>[Comedy, Romance]</td>\n",
       "      <td>[remake]</td>\n",
       "    </tr>\n",
       "  </tbody>\n",
       "</table>\n",
       "</div>"
      ],
      "text/plain": [
       "    movieId                               title  \\\n",
       "0         1                    Toy Story (1995)   \n",
       "3         2                      Jumanji (1995)   \n",
       "7         3             Grumpier Old Men (1995)   \n",
       "9         5  Father of the Bride Part II (1995)   \n",
       "11        7                      Sabrina (1995)   \n",
       "\n",
       "                                               genres          tag  \n",
       "0   [Adventure, Animation, Children, Comedy, Fantasy]      [pixar]  \n",
       "3                      [Adventure, Children, Fantasy]    [fantasy]  \n",
       "7                                   [Comedy, Romance]      [moldy]  \n",
       "9                                            [Comedy]  [pregnancy]  \n",
       "11                                  [Comedy, Romance]     [remake]  "
      ]
     },
     "execution_count": 48,
     "metadata": {},
     "output_type": "execute_result"
    }
   ],
   "source": [
    "movies.head()"
   ]
  },
  {
   "cell_type": "code",
   "execution_count": 49,
   "id": "2d90059a",
   "metadata": {},
   "outputs": [],
   "source": [
    "movies['tag']=movies['genres']+movies['tag']"
   ]
  },
  {
   "cell_type": "code",
   "execution_count": 50,
   "id": "8b9aec00",
   "metadata": {},
   "outputs": [
    {
     "data": {
      "text/html": [
       "<div>\n",
       "<style scoped>\n",
       "    .dataframe tbody tr th:only-of-type {\n",
       "        vertical-align: middle;\n",
       "    }\n",
       "\n",
       "    .dataframe tbody tr th {\n",
       "        vertical-align: top;\n",
       "    }\n",
       "\n",
       "    .dataframe thead th {\n",
       "        text-align: right;\n",
       "    }\n",
       "</style>\n",
       "<table border=\"1\" class=\"dataframe\">\n",
       "  <thead>\n",
       "    <tr style=\"text-align: right;\">\n",
       "      <th></th>\n",
       "      <th>movieId</th>\n",
       "      <th>title</th>\n",
       "      <th>genres</th>\n",
       "      <th>tag</th>\n",
       "    </tr>\n",
       "  </thead>\n",
       "  <tbody>\n",
       "    <tr>\n",
       "      <th>0</th>\n",
       "      <td>1</td>\n",
       "      <td>Toy Story (1995)</td>\n",
       "      <td>[Adventure, Animation, Children, Comedy, Fantasy]</td>\n",
       "      <td>[Adventure, Animation, Children, Comedy, Fanta...</td>\n",
       "    </tr>\n",
       "    <tr>\n",
       "      <th>3</th>\n",
       "      <td>2</td>\n",
       "      <td>Jumanji (1995)</td>\n",
       "      <td>[Adventure, Children, Fantasy]</td>\n",
       "      <td>[Adventure, Children, Fantasy, fantasy]</td>\n",
       "    </tr>\n",
       "    <tr>\n",
       "      <th>7</th>\n",
       "      <td>3</td>\n",
       "      <td>Grumpier Old Men (1995)</td>\n",
       "      <td>[Comedy, Romance]</td>\n",
       "      <td>[Comedy, Romance, moldy]</td>\n",
       "    </tr>\n",
       "    <tr>\n",
       "      <th>9</th>\n",
       "      <td>5</td>\n",
       "      <td>Father of the Bride Part II (1995)</td>\n",
       "      <td>[Comedy]</td>\n",
       "      <td>[Comedy, pregnancy]</td>\n",
       "    </tr>\n",
       "    <tr>\n",
       "      <th>11</th>\n",
       "      <td>7</td>\n",
       "      <td>Sabrina (1995)</td>\n",
       "      <td>[Comedy, Romance]</td>\n",
       "      <td>[Comedy, Romance, remake]</td>\n",
       "    </tr>\n",
       "  </tbody>\n",
       "</table>\n",
       "</div>"
      ],
      "text/plain": [
       "    movieId                               title  \\\n",
       "0         1                    Toy Story (1995)   \n",
       "3         2                      Jumanji (1995)   \n",
       "7         3             Grumpier Old Men (1995)   \n",
       "9         5  Father of the Bride Part II (1995)   \n",
       "11        7                      Sabrina (1995)   \n",
       "\n",
       "                                               genres  \\\n",
       "0   [Adventure, Animation, Children, Comedy, Fantasy]   \n",
       "3                      [Adventure, Children, Fantasy]   \n",
       "7                                   [Comedy, Romance]   \n",
       "9                                            [Comedy]   \n",
       "11                                  [Comedy, Romance]   \n",
       "\n",
       "                                                  tag  \n",
       "0   [Adventure, Animation, Children, Comedy, Fanta...  \n",
       "3             [Adventure, Children, Fantasy, fantasy]  \n",
       "7                            [Comedy, Romance, moldy]  \n",
       "9                                 [Comedy, pregnancy]  \n",
       "11                          [Comedy, Romance, remake]  "
      ]
     },
     "execution_count": 50,
     "metadata": {},
     "output_type": "execute_result"
    }
   ],
   "source": [
    "movies.head()"
   ]
  },
  {
   "cell_type": "code",
   "execution_count": 51,
   "id": "2b6780d6",
   "metadata": {},
   "outputs": [],
   "source": [
    "movies=movies[['movieId','title','tag']]"
   ]
  },
  {
   "cell_type": "code",
   "execution_count": 52,
   "id": "9ae4b056",
   "metadata": {},
   "outputs": [
    {
     "data": {
      "text/html": [
       "<div>\n",
       "<style scoped>\n",
       "    .dataframe tbody tr th:only-of-type {\n",
       "        vertical-align: middle;\n",
       "    }\n",
       "\n",
       "    .dataframe tbody tr th {\n",
       "        vertical-align: top;\n",
       "    }\n",
       "\n",
       "    .dataframe thead th {\n",
       "        text-align: right;\n",
       "    }\n",
       "</style>\n",
       "<table border=\"1\" class=\"dataframe\">\n",
       "  <thead>\n",
       "    <tr style=\"text-align: right;\">\n",
       "      <th></th>\n",
       "      <th>movieId</th>\n",
       "      <th>title</th>\n",
       "      <th>tag</th>\n",
       "    </tr>\n",
       "  </thead>\n",
       "  <tbody>\n",
       "    <tr>\n",
       "      <th>0</th>\n",
       "      <td>1</td>\n",
       "      <td>Toy Story (1995)</td>\n",
       "      <td>[Adventure, Animation, Children, Comedy, Fanta...</td>\n",
       "    </tr>\n",
       "    <tr>\n",
       "      <th>3</th>\n",
       "      <td>2</td>\n",
       "      <td>Jumanji (1995)</td>\n",
       "      <td>[Adventure, Children, Fantasy, fantasy]</td>\n",
       "    </tr>\n",
       "    <tr>\n",
       "      <th>7</th>\n",
       "      <td>3</td>\n",
       "      <td>Grumpier Old Men (1995)</td>\n",
       "      <td>[Comedy, Romance, moldy]</td>\n",
       "    </tr>\n",
       "    <tr>\n",
       "      <th>9</th>\n",
       "      <td>5</td>\n",
       "      <td>Father of the Bride Part II (1995)</td>\n",
       "      <td>[Comedy, pregnancy]</td>\n",
       "    </tr>\n",
       "    <tr>\n",
       "      <th>11</th>\n",
       "      <td>7</td>\n",
       "      <td>Sabrina (1995)</td>\n",
       "      <td>[Comedy, Romance, remake]</td>\n",
       "    </tr>\n",
       "  </tbody>\n",
       "</table>\n",
       "</div>"
      ],
      "text/plain": [
       "    movieId                               title  \\\n",
       "0         1                    Toy Story (1995)   \n",
       "3         2                      Jumanji (1995)   \n",
       "7         3             Grumpier Old Men (1995)   \n",
       "9         5  Father of the Bride Part II (1995)   \n",
       "11        7                      Sabrina (1995)   \n",
       "\n",
       "                                                  tag  \n",
       "0   [Adventure, Animation, Children, Comedy, Fanta...  \n",
       "3             [Adventure, Children, Fantasy, fantasy]  \n",
       "7                            [Comedy, Romance, moldy]  \n",
       "9                                 [Comedy, pregnancy]  \n",
       "11                          [Comedy, Romance, remake]  "
      ]
     },
     "execution_count": 52,
     "metadata": {},
     "output_type": "execute_result"
    }
   ],
   "source": [
    "movies.head()"
   ]
  },
  {
   "cell_type": "code",
   "execution_count": 53,
   "id": "3cec9477",
   "metadata": {},
   "outputs": [],
   "source": [
    "movies['tag']=movies['tag'].apply(lambda x:\" \".join(x))"
   ]
  },
  {
   "cell_type": "code",
   "execution_count": 54,
   "id": "23491628",
   "metadata": {},
   "outputs": [
    {
     "data": {
      "text/html": [
       "<div>\n",
       "<style scoped>\n",
       "    .dataframe tbody tr th:only-of-type {\n",
       "        vertical-align: middle;\n",
       "    }\n",
       "\n",
       "    .dataframe tbody tr th {\n",
       "        vertical-align: top;\n",
       "    }\n",
       "\n",
       "    .dataframe thead th {\n",
       "        text-align: right;\n",
       "    }\n",
       "</style>\n",
       "<table border=\"1\" class=\"dataframe\">\n",
       "  <thead>\n",
       "    <tr style=\"text-align: right;\">\n",
       "      <th></th>\n",
       "      <th>movieId</th>\n",
       "      <th>title</th>\n",
       "      <th>tag</th>\n",
       "    </tr>\n",
       "  </thead>\n",
       "  <tbody>\n",
       "    <tr>\n",
       "      <th>0</th>\n",
       "      <td>1</td>\n",
       "      <td>Toy Story (1995)</td>\n",
       "      <td>Adventure Animation Children Comedy Fantasy pixar</td>\n",
       "    </tr>\n",
       "    <tr>\n",
       "      <th>3</th>\n",
       "      <td>2</td>\n",
       "      <td>Jumanji (1995)</td>\n",
       "      <td>Adventure Children Fantasy fantasy</td>\n",
       "    </tr>\n",
       "    <tr>\n",
       "      <th>7</th>\n",
       "      <td>3</td>\n",
       "      <td>Grumpier Old Men (1995)</td>\n",
       "      <td>Comedy Romance moldy</td>\n",
       "    </tr>\n",
       "    <tr>\n",
       "      <th>9</th>\n",
       "      <td>5</td>\n",
       "      <td>Father of the Bride Part II (1995)</td>\n",
       "      <td>Comedy pregnancy</td>\n",
       "    </tr>\n",
       "    <tr>\n",
       "      <th>11</th>\n",
       "      <td>7</td>\n",
       "      <td>Sabrina (1995)</td>\n",
       "      <td>Comedy Romance remake</td>\n",
       "    </tr>\n",
       "  </tbody>\n",
       "</table>\n",
       "</div>"
      ],
      "text/plain": [
       "    movieId                               title  \\\n",
       "0         1                    Toy Story (1995)   \n",
       "3         2                      Jumanji (1995)   \n",
       "7         3             Grumpier Old Men (1995)   \n",
       "9         5  Father of the Bride Part II (1995)   \n",
       "11        7                      Sabrina (1995)   \n",
       "\n",
       "                                                  tag  \n",
       "0   Adventure Animation Children Comedy Fantasy pixar  \n",
       "3                  Adventure Children Fantasy fantasy  \n",
       "7                                Comedy Romance moldy  \n",
       "9                                    Comedy pregnancy  \n",
       "11                              Comedy Romance remake  "
      ]
     },
     "execution_count": 54,
     "metadata": {},
     "output_type": "execute_result"
    }
   ],
   "source": [
    "movies.head()"
   ]
  },
  {
   "cell_type": "code",
   "execution_count": 55,
   "id": "91a2321f",
   "metadata": {},
   "outputs": [],
   "source": [
    "movies['tag']=movies['tag'].apply(lambda x:x.lower())"
   ]
  },
  {
   "cell_type": "code",
   "execution_count": 56,
   "id": "6aa9958e",
   "metadata": {},
   "outputs": [
    {
     "data": {
      "text/html": [
       "<div>\n",
       "<style scoped>\n",
       "    .dataframe tbody tr th:only-of-type {\n",
       "        vertical-align: middle;\n",
       "    }\n",
       "\n",
       "    .dataframe tbody tr th {\n",
       "        vertical-align: top;\n",
       "    }\n",
       "\n",
       "    .dataframe thead th {\n",
       "        text-align: right;\n",
       "    }\n",
       "</style>\n",
       "<table border=\"1\" class=\"dataframe\">\n",
       "  <thead>\n",
       "    <tr style=\"text-align: right;\">\n",
       "      <th></th>\n",
       "      <th>movieId</th>\n",
       "      <th>title</th>\n",
       "      <th>tag</th>\n",
       "    </tr>\n",
       "  </thead>\n",
       "  <tbody>\n",
       "    <tr>\n",
       "      <th>0</th>\n",
       "      <td>1</td>\n",
       "      <td>Toy Story (1995)</td>\n",
       "      <td>adventure animation children comedy fantasy pixar</td>\n",
       "    </tr>\n",
       "    <tr>\n",
       "      <th>3</th>\n",
       "      <td>2</td>\n",
       "      <td>Jumanji (1995)</td>\n",
       "      <td>adventure children fantasy fantasy</td>\n",
       "    </tr>\n",
       "    <tr>\n",
       "      <th>7</th>\n",
       "      <td>3</td>\n",
       "      <td>Grumpier Old Men (1995)</td>\n",
       "      <td>comedy romance moldy</td>\n",
       "    </tr>\n",
       "    <tr>\n",
       "      <th>9</th>\n",
       "      <td>5</td>\n",
       "      <td>Father of the Bride Part II (1995)</td>\n",
       "      <td>comedy pregnancy</td>\n",
       "    </tr>\n",
       "    <tr>\n",
       "      <th>11</th>\n",
       "      <td>7</td>\n",
       "      <td>Sabrina (1995)</td>\n",
       "      <td>comedy romance remake</td>\n",
       "    </tr>\n",
       "  </tbody>\n",
       "</table>\n",
       "</div>"
      ],
      "text/plain": [
       "    movieId                               title  \\\n",
       "0         1                    Toy Story (1995)   \n",
       "3         2                      Jumanji (1995)   \n",
       "7         3             Grumpier Old Men (1995)   \n",
       "9         5  Father of the Bride Part II (1995)   \n",
       "11        7                      Sabrina (1995)   \n",
       "\n",
       "                                                  tag  \n",
       "0   adventure animation children comedy fantasy pixar  \n",
       "3                  adventure children fantasy fantasy  \n",
       "7                                comedy romance moldy  \n",
       "9                                    comedy pregnancy  \n",
       "11                              comedy romance remake  "
      ]
     },
     "execution_count": 56,
     "metadata": {},
     "output_type": "execute_result"
    }
   ],
   "source": [
    "movies.head()"
   ]
  },
  {
   "cell_type": "code",
   "execution_count": 57,
   "id": "5335f886",
   "metadata": {},
   "outputs": [
    {
     "data": {
      "text/plain": [
       "0       False\n",
       "3       False\n",
       "7       False\n",
       "9       False\n",
       "11      False\n",
       "        ...  \n",
       "3668    False\n",
       "3671    False\n",
       "3674    False\n",
       "3677    False\n",
       "3679    False\n",
       "Name: title, Length: 1572, dtype: bool"
      ]
     },
     "execution_count": 57,
     "metadata": {},
     "output_type": "execute_result"
    }
   ],
   "source": [
    "movies['title']==\"A, Bugs Life\""
   ]
  },
  {
   "cell_type": "code",
   "execution_count": 58,
   "id": "f6b35b69",
   "metadata": {},
   "outputs": [],
   "source": [
    "def tit(name):\n",
    "    final_username = \"\"\n",
    "    for c in range(len(name)):\n",
    "        if(name[c]=='('):\n",
    "            break\n",
    "        final_username += name[c]\n",
    "    final_username=final_username.strip()\n",
    "    return final_username\n",
    " "
   ]
  },
  {
   "cell_type": "code",
   "execution_count": 59,
   "id": "7887381f",
   "metadata": {},
   "outputs": [
    {
     "data": {
      "text/plain": [
       "'2 states'"
      ]
     },
     "execution_count": 59,
     "metadata": {},
     "output_type": "execute_result"
    }
   ],
   "source": [
    "tit('2 states(1997)')"
   ]
  },
  {
   "cell_type": "code",
   "execution_count": 60,
   "id": "f4a6baa8",
   "metadata": {},
   "outputs": [],
   "source": [
    "movies['title']=movies['title'].apply(tit)"
   ]
  },
  {
   "cell_type": "code",
   "execution_count": 61,
   "id": "5bd904b0",
   "metadata": {},
   "outputs": [
    {
     "data": {
      "text/html": [
       "<div>\n",
       "<style scoped>\n",
       "    .dataframe tbody tr th:only-of-type {\n",
       "        vertical-align: middle;\n",
       "    }\n",
       "\n",
       "    .dataframe tbody tr th {\n",
       "        vertical-align: top;\n",
       "    }\n",
       "\n",
       "    .dataframe thead th {\n",
       "        text-align: right;\n",
       "    }\n",
       "</style>\n",
       "<table border=\"1\" class=\"dataframe\">\n",
       "  <thead>\n",
       "    <tr style=\"text-align: right;\">\n",
       "      <th></th>\n",
       "      <th>movieId</th>\n",
       "      <th>title</th>\n",
       "      <th>tag</th>\n",
       "    </tr>\n",
       "  </thead>\n",
       "  <tbody>\n",
       "    <tr>\n",
       "      <th>0</th>\n",
       "      <td>1</td>\n",
       "      <td>Toy Story</td>\n",
       "      <td>adventure animation children comedy fantasy pixar</td>\n",
       "    </tr>\n",
       "    <tr>\n",
       "      <th>3</th>\n",
       "      <td>2</td>\n",
       "      <td>Jumanji</td>\n",
       "      <td>adventure children fantasy fantasy</td>\n",
       "    </tr>\n",
       "    <tr>\n",
       "      <th>7</th>\n",
       "      <td>3</td>\n",
       "      <td>Grumpier Old Men</td>\n",
       "      <td>comedy romance moldy</td>\n",
       "    </tr>\n",
       "    <tr>\n",
       "      <th>9</th>\n",
       "      <td>5</td>\n",
       "      <td>Father of the Bride Part II</td>\n",
       "      <td>comedy pregnancy</td>\n",
       "    </tr>\n",
       "    <tr>\n",
       "      <th>11</th>\n",
       "      <td>7</td>\n",
       "      <td>Sabrina</td>\n",
       "      <td>comedy romance remake</td>\n",
       "    </tr>\n",
       "  </tbody>\n",
       "</table>\n",
       "</div>"
      ],
      "text/plain": [
       "    movieId                        title  \\\n",
       "0         1                    Toy Story   \n",
       "3         2                      Jumanji   \n",
       "7         3             Grumpier Old Men   \n",
       "9         5  Father of the Bride Part II   \n",
       "11        7                      Sabrina   \n",
       "\n",
       "                                                  tag  \n",
       "0   adventure animation children comedy fantasy pixar  \n",
       "3                  adventure children fantasy fantasy  \n",
       "7                                comedy romance moldy  \n",
       "9                                    comedy pregnancy  \n",
       "11                              comedy romance remake  "
      ]
     },
     "execution_count": 61,
     "metadata": {},
     "output_type": "execute_result"
    }
   ],
   "source": [
    "movies.head()"
   ]
  },
  {
   "cell_type": "code",
   "execution_count": 62,
   "id": "a0247b12",
   "metadata": {},
   "outputs": [
    {
     "data": {
      "text/plain": [
       "(1572, 3)"
      ]
     },
     "execution_count": 62,
     "metadata": {},
     "output_type": "execute_result"
    }
   ],
   "source": [
    "movies.shape"
   ]
  },
  {
   "cell_type": "code",
   "execution_count": 63,
   "id": "86511718",
   "metadata": {},
   "outputs": [],
   "source": [
    "import nltk"
   ]
  },
  {
   "cell_type": "code",
   "execution_count": 64,
   "id": "545db69d",
   "metadata": {},
   "outputs": [],
   "source": [
    "from nltk.stem.porter import PorterStemmer\n",
    "p_s=PorterStemmer()"
   ]
  },
  {
   "cell_type": "code",
   "execution_count": 65,
   "id": "3dad4fc8",
   "metadata": {},
   "outputs": [],
   "source": [
    "def stem(text):\n",
    "    L=[]\n",
    "    for i in text.split():\n",
    "        L.append(p_s.stem(i))\n",
    "    return \" \".join(L)   "
   ]
  },
  {
   "cell_type": "code",
   "execution_count": 66,
   "id": "ac868765",
   "metadata": {},
   "outputs": [],
   "source": [
    "mov=movies"
   ]
  },
  {
   "cell_type": "code",
   "execution_count": 67,
   "id": "f14b5682",
   "metadata": {},
   "outputs": [],
   "source": [
    "mov['tag']=mov['tag'].apply(stem)"
   ]
  },
  {
   "cell_type": "code",
   "execution_count": 68,
   "id": "2ac8873b",
   "metadata": {},
   "outputs": [],
   "source": [
    "from sklearn.feature_extraction.text import CountVectorizer\n",
    "count = CountVectorizer(max_features=2000,stop_words='english')"
   ]
  },
  {
   "cell_type": "code",
   "execution_count": 69,
   "id": "29fd7e00",
   "metadata": {},
   "outputs": [
    {
     "data": {
      "text/html": [
       "<div>\n",
       "<style scoped>\n",
       "    .dataframe tbody tr th:only-of-type {\n",
       "        vertical-align: middle;\n",
       "    }\n",
       "\n",
       "    .dataframe tbody tr th {\n",
       "        vertical-align: top;\n",
       "    }\n",
       "\n",
       "    .dataframe thead th {\n",
       "        text-align: right;\n",
       "    }\n",
       "</style>\n",
       "<table border=\"1\" class=\"dataframe\">\n",
       "  <thead>\n",
       "    <tr style=\"text-align: right;\">\n",
       "      <th></th>\n",
       "      <th>movieId</th>\n",
       "      <th>title</th>\n",
       "      <th>tag</th>\n",
       "    </tr>\n",
       "  </thead>\n",
       "  <tbody>\n",
       "    <tr>\n",
       "      <th>0</th>\n",
       "      <td>1</td>\n",
       "      <td>Toy Story</td>\n",
       "      <td>adventur anim children comedi fantasi pixar</td>\n",
       "    </tr>\n",
       "    <tr>\n",
       "      <th>3</th>\n",
       "      <td>2</td>\n",
       "      <td>Jumanji</td>\n",
       "      <td>adventur children fantasi fantasi</td>\n",
       "    </tr>\n",
       "    <tr>\n",
       "      <th>7</th>\n",
       "      <td>3</td>\n",
       "      <td>Grumpier Old Men</td>\n",
       "      <td>comedi romanc moldi</td>\n",
       "    </tr>\n",
       "    <tr>\n",
       "      <th>9</th>\n",
       "      <td>5</td>\n",
       "      <td>Father of the Bride Part II</td>\n",
       "      <td>comedi pregnanc</td>\n",
       "    </tr>\n",
       "    <tr>\n",
       "      <th>11</th>\n",
       "      <td>7</td>\n",
       "      <td>Sabrina</td>\n",
       "      <td>comedi romanc remak</td>\n",
       "    </tr>\n",
       "  </tbody>\n",
       "</table>\n",
       "</div>"
      ],
      "text/plain": [
       "    movieId                        title  \\\n",
       "0         1                    Toy Story   \n",
       "3         2                      Jumanji   \n",
       "7         3             Grumpier Old Men   \n",
       "9         5  Father of the Bride Part II   \n",
       "11        7                      Sabrina   \n",
       "\n",
       "                                            tag  \n",
       "0   adventur anim children comedi fantasi pixar  \n",
       "3             adventur children fantasi fantasi  \n",
       "7                           comedi romanc moldi  \n",
       "9                               comedi pregnanc  \n",
       "11                          comedi romanc remak  "
      ]
     },
     "execution_count": 69,
     "metadata": {},
     "output_type": "execute_result"
    }
   ],
   "source": [
    "mov.head()"
   ]
  },
  {
   "cell_type": "code",
   "execution_count": 70,
   "id": "dee1d3f5",
   "metadata": {},
   "outputs": [
    {
     "data": {
      "text/html": [
       "<div>\n",
       "<style scoped>\n",
       "    .dataframe tbody tr th:only-of-type {\n",
       "        vertical-align: middle;\n",
       "    }\n",
       "\n",
       "    .dataframe tbody tr th {\n",
       "        vertical-align: top;\n",
       "    }\n",
       "\n",
       "    .dataframe thead th {\n",
       "        text-align: right;\n",
       "    }\n",
       "</style>\n",
       "<table border=\"1\" class=\"dataframe\">\n",
       "  <thead>\n",
       "    <tr style=\"text-align: right;\">\n",
       "      <th></th>\n",
       "      <th>movieId</th>\n",
       "      <th>title</th>\n",
       "      <th>tag</th>\n",
       "    </tr>\n",
       "  </thead>\n",
       "  <tbody>\n",
       "    <tr>\n",
       "      <th>0</th>\n",
       "      <td>1</td>\n",
       "      <td>Toy Story</td>\n",
       "      <td>adventur anim children comedi fantasi pixar</td>\n",
       "    </tr>\n",
       "    <tr>\n",
       "      <th>3</th>\n",
       "      <td>2</td>\n",
       "      <td>Jumanji</td>\n",
       "      <td>adventur children fantasi fantasi</td>\n",
       "    </tr>\n",
       "    <tr>\n",
       "      <th>7</th>\n",
       "      <td>3</td>\n",
       "      <td>Grumpier Old Men</td>\n",
       "      <td>comedi romanc moldi</td>\n",
       "    </tr>\n",
       "    <tr>\n",
       "      <th>9</th>\n",
       "      <td>5</td>\n",
       "      <td>Father of the Bride Part II</td>\n",
       "      <td>comedi pregnanc</td>\n",
       "    </tr>\n",
       "    <tr>\n",
       "      <th>11</th>\n",
       "      <td>7</td>\n",
       "      <td>Sabrina</td>\n",
       "      <td>comedi romanc remak</td>\n",
       "    </tr>\n",
       "  </tbody>\n",
       "</table>\n",
       "</div>"
      ],
      "text/plain": [
       "    movieId                        title  \\\n",
       "0         1                    Toy Story   \n",
       "3         2                      Jumanji   \n",
       "7         3             Grumpier Old Men   \n",
       "9         5  Father of the Bride Part II   \n",
       "11        7                      Sabrina   \n",
       "\n",
       "                                            tag  \n",
       "0   adventur anim children comedi fantasi pixar  \n",
       "3             adventur children fantasi fantasi  \n",
       "7                           comedi romanc moldi  \n",
       "9                               comedi pregnanc  \n",
       "11                          comedi romanc remak  "
      ]
     },
     "execution_count": 70,
     "metadata": {},
     "output_type": "execute_result"
    }
   ],
   "source": [
    "movies.head()"
   ]
  },
  {
   "cell_type": "code",
   "execution_count": 71,
   "id": "6303f0ad",
   "metadata": {},
   "outputs": [
    {
     "data": {
      "text/plain": [
       "array([[0, 0, 0, ..., 0, 0, 0],\n",
       "       [0, 0, 0, ..., 0, 0, 0],\n",
       "       [0, 0, 0, ..., 0, 0, 0],\n",
       "       ...,\n",
       "       [0, 0, 0, ..., 0, 0, 0],\n",
       "       [0, 0, 0, ..., 0, 0, 0],\n",
       "       [0, 0, 0, ..., 0, 0, 0]], dtype=int64)"
      ]
     },
     "execution_count": 71,
     "metadata": {},
     "output_type": "execute_result"
    }
   ],
   "source": [
    "count.fit_transform(mov['tag']).toarray()"
   ]
  },
  {
   "cell_type": "code",
   "execution_count": 72,
   "id": "9aab9ddb",
   "metadata": {},
   "outputs": [],
   "source": [
    "arr_vac=count.fit_transform(mov['tag']).toarray()"
   ]
  },
  {
   "cell_type": "code",
   "execution_count": 73,
   "id": "1286a9e5",
   "metadata": {},
   "outputs": [
    {
     "data": {
      "text/plain": [
       "(1572, 837)"
      ]
     },
     "execution_count": 73,
     "metadata": {},
     "output_type": "execute_result"
    }
   ],
   "source": [
    "arr_vac.shape"
   ]
  },
  {
   "cell_type": "code",
   "execution_count": 74,
   "id": "0aa1dd7b",
   "metadata": {},
   "outputs": [
    {
     "data": {
      "text/plain": [
       "837"
      ]
     },
     "execution_count": 74,
     "metadata": {},
     "output_type": "execute_result"
    }
   ],
   "source": [
    "len(count.get_feature_names())"
   ]
  },
  {
   "cell_type": "code",
   "execution_count": 75,
   "id": "5afe194a",
   "metadata": {},
   "outputs": [
    {
     "data": {
      "text/plain": [
       "'love'"
      ]
     },
     "execution_count": 75,
     "metadata": {},
     "output_type": "execute_result"
    }
   ],
   "source": [
    "p_s.stem('loving')"
   ]
  },
  {
   "cell_type": "code",
   "execution_count": 76,
   "id": "2df5a7d1",
   "metadata": {},
   "outputs": [
    {
     "data": {
      "text/plain": [
       "'adventur anim children comedi fantasi pixar'"
      ]
     },
     "execution_count": 76,
     "metadata": {},
     "output_type": "execute_result"
    }
   ],
   "source": [
    "mov['tag'].iloc[0]"
   ]
  },
  {
   "cell_type": "code",
   "execution_count": 77,
   "id": "e6262ef4",
   "metadata": {},
   "outputs": [
    {
     "data": {
      "text/plain": [
       "'adventur anim children comedi love pixar'"
      ]
     },
     "execution_count": 77,
     "metadata": {},
     "output_type": "execute_result"
    }
   ],
   "source": [
    "stem('adventure animation children comedy loving pixar')"
   ]
  },
  {
   "cell_type": "code",
   "execution_count": 78,
   "id": "694b3bc7",
   "metadata": {},
   "outputs": [
    {
     "data": {
      "text/plain": [
       "['06',\n",
       " '1900',\n",
       " '1920',\n",
       " '1950',\n",
       " '1960',\n",
       " '1970',\n",
       " '1980',\n",
       " '2001',\n",
       " '2d',\n",
       " '70mm',\n",
       " '80',\n",
       " 'aardman',\n",
       " 'abort',\n",
       " 'absorb',\n",
       " 'abstract',\n",
       " 'abus',\n",
       " 'academi',\n",
       " 'accid',\n",
       " 'act',\n",
       " 'action',\n",
       " 'actress',\n",
       " 'ad',\n",
       " 'adam',\n",
       " 'addict',\n",
       " 'adolesc',\n",
       " 'adopt',\n",
       " 'ador',\n",
       " 'adrien',\n",
       " 'adult',\n",
       " 'adulteri',\n",
       " 'adventur',\n",
       " 'affleck',\n",
       " 'afghanistan',\n",
       " 'africa',\n",
       " 'agatha',\n",
       " 'age',\n",
       " 'aid',\n",
       " 'al',\n",
       " 'alcatraz',\n",
       " 'alcohol',\n",
       " 'alcott',\n",
       " 'alfr',\n",
       " 'alien',\n",
       " 'allegor',\n",
       " 'alon',\n",
       " 'alter',\n",
       " 'altern',\n",
       " 'amaz',\n",
       " 'america',\n",
       " 'american',\n",
       " 'ami',\n",
       " 'amish',\n",
       " 'amnesia',\n",
       " 'amtrak',\n",
       " 'ancient',\n",
       " 'andi',\n",
       " 'andrew',\n",
       " 'android',\n",
       " 'anim',\n",
       " 'ann',\n",
       " 'annoy',\n",
       " 'anthoni',\n",
       " 'anti',\n",
       " 'apocalyps',\n",
       " 'apocalypt',\n",
       " 'appeal',\n",
       " 'aquarium',\n",
       " 'archaeolog',\n",
       " 'art',\n",
       " 'arthur',\n",
       " 'artifici',\n",
       " 'artist',\n",
       " 'artsy',\n",
       " 'artwork',\n",
       " 'assassin',\n",
       " 'astair',\n",
       " 'asylum',\n",
       " 'ate',\n",
       " 'atmospher',\n",
       " 'audienc',\n",
       " 'austen',\n",
       " 'auster',\n",
       " 'australia',\n",
       " 'autism',\n",
       " 'avail',\n",
       " 'avant',\n",
       " 'aviat',\n",
       " 'award',\n",
       " 'awesom',\n",
       " 'babi',\n",
       " 'bad',\n",
       " 'bale',\n",
       " 'ballet',\n",
       " 'ballroom',\n",
       " 'bank',\n",
       " 'base',\n",
       " 'basebal',\n",
       " 'basketbal',\n",
       " 'beat',\n",
       " 'beatl',\n",
       " 'beauti',\n",
       " 'bee',\n",
       " 'beethoven',\n",
       " 'ben',\n",
       " 'bernard',\n",
       " 'berri',\n",
       " 'best',\n",
       " 'bett',\n",
       " 'bibl',\n",
       " 'big',\n",
       " 'bike',\n",
       " 'biopic',\n",
       " 'bird',\n",
       " 'bittersweet',\n",
       " 'bizarr',\n",
       " 'black',\n",
       " 'bleak',\n",
       " 'blind',\n",
       " 'bloodi',\n",
       " 'bluegrass',\n",
       " 'boksdrama',\n",
       " 'boleyn',\n",
       " 'bomb',\n",
       " 'book',\n",
       " 'bore',\n",
       " 'borg',\n",
       " 'box',\n",
       " 'brad',\n",
       " 'bradburi',\n",
       " 'brainwash',\n",
       " 'brilliant',\n",
       " 'british',\n",
       " 'britpop',\n",
       " 'broadway',\n",
       " 'brodi',\n",
       " 'brolin',\n",
       " 'bront',\n",
       " 'brooch',\n",
       " 'brother',\n",
       " 'brutal',\n",
       " 'bu',\n",
       " 'buck',\n",
       " 'budget',\n",
       " 'bug',\n",
       " 'build',\n",
       " 'bulow',\n",
       " 'bunni',\n",
       " 'busi',\n",
       " 'busniess',\n",
       " 'butler',\n",
       " 'byatt',\n",
       " 'cage',\n",
       " 'california',\n",
       " 'cambodia',\n",
       " 'cameo',\n",
       " 'camp',\n",
       " 'canada',\n",
       " 'cancer',\n",
       " 'capon',\n",
       " 'capot',\n",
       " 'captain',\n",
       " 'carniv',\n",
       " 'casey',\n",
       " 'cash',\n",
       " 'casino',\n",
       " 'cast',\n",
       " 'cathol',\n",
       " 'cattl',\n",
       " 'celebr',\n",
       " 'cera',\n",
       " 'chan',\n",
       " 'charact',\n",
       " 'charl',\n",
       " 'charliz',\n",
       " 'charlott',\n",
       " 'cheeki',\n",
       " 'chef',\n",
       " 'chess',\n",
       " 'chick',\n",
       " 'child',\n",
       " 'childish',\n",
       " 'children',\n",
       " 'chile',\n",
       " 'china',\n",
       " 'choreographi',\n",
       " 'chri',\n",
       " 'christi',\n",
       " 'christian',\n",
       " 'christma',\n",
       " 'church',\n",
       " 'cia',\n",
       " 'cinema',\n",
       " 'cinematographi',\n",
       " 'circu',\n",
       " 'citi',\n",
       " 'civil',\n",
       " 'claim',\n",
       " 'clanci',\n",
       " 'clark',\n",
       " 'class',\n",
       " 'classic',\n",
       " 'claustrophob',\n",
       " 'claymat',\n",
       " 'clever',\n",
       " 'clich',\n",
       " 'climb',\n",
       " 'clock',\n",
       " 'clousseau',\n",
       " 'coen',\n",
       " 'cold',\n",
       " 'cole',\n",
       " 'colleg',\n",
       " 'coma',\n",
       " 'comedi',\n",
       " 'comic',\n",
       " 'comput',\n",
       " 'conan',\n",
       " 'conspiraci',\n",
       " 'contempl',\n",
       " 'controversi',\n",
       " 'convent',\n",
       " 'coppola',\n",
       " 'corp',\n",
       " 'corrupt',\n",
       " 'costner',\n",
       " 'costum',\n",
       " 'cotillard',\n",
       " 'court',\n",
       " 'courtroom',\n",
       " 'crane',\n",
       " 'crappi',\n",
       " 'creatur',\n",
       " 'creepi',\n",
       " 'cri',\n",
       " 'crichton',\n",
       " 'crime',\n",
       " 'cross',\n",
       " 'crucifixion',\n",
       " 'crude',\n",
       " 'cruel',\n",
       " 'cult',\n",
       " 'cusack',\n",
       " 'cyborg',\n",
       " 'cynic',\n",
       " 'dahl',\n",
       " 'danc',\n",
       " 'dance',\n",
       " 'daniel',\n",
       " 'dark',\n",
       " 'darth',\n",
       " 'date',\n",
       " 'davi',\n",
       " 'david',\n",
       " 'day',\n",
       " 'deaf',\n",
       " 'death',\n",
       " 'decemb',\n",
       " 'demon',\n",
       " 'depress',\n",
       " 'dewint',\n",
       " 'diabet',\n",
       " 'dialogu',\n",
       " 'dicarpio',\n",
       " 'dicken',\n",
       " 'dingo',\n",
       " 'dinosaur',\n",
       " 'disabl',\n",
       " 'disast',\n",
       " 'disney',\n",
       " 'dive',\n",
       " 'divorc',\n",
       " 'doc',\n",
       " 'doctor',\n",
       " 'documentari',\n",
       " 'dodi',\n",
       " 'dog',\n",
       " 'doll',\n",
       " 'domest',\n",
       " 'donkey',\n",
       " 'dorothi',\n",
       " 'dougla',\n",
       " 'downbeat',\n",
       " 'dr',\n",
       " 'drag',\n",
       " 'drama',\n",
       " 'dreamlik',\n",
       " 'dress',\n",
       " 'drive',\n",
       " 'drug',\n",
       " 'duma',\n",
       " 'dumpster',\n",
       " 'dvd',\n",
       " 'dystopia',\n",
       " 'earth',\n",
       " 'east',\n",
       " 'ed',\n",
       " 'edith',\n",
       " 'edward',\n",
       " 'ego',\n",
       " 'einstein',\n",
       " 'embarass',\n",
       " 'emilia',\n",
       " 'emma',\n",
       " 'emot',\n",
       " 'empir',\n",
       " 'end',\n",
       " 'england',\n",
       " 'enjoy',\n",
       " 'ensembl',\n",
       " 'enterpris',\n",
       " 'entertain',\n",
       " 'estat',\n",
       " 'eugen',\n",
       " 'europ',\n",
       " 'evan',\n",
       " 'everyon',\n",
       " 'everyth',\n",
       " 'evil',\n",
       " 'ewan',\n",
       " 'ex',\n",
       " 'existenti',\n",
       " 'express',\n",
       " 'eye',\n",
       " 'factori',\n",
       " 'fairi',\n",
       " 'fall',\n",
       " 'famili',\n",
       " 'fantasi',\n",
       " 'fatalist',\n",
       " 'father',\n",
       " 'fatherhood',\n",
       " 'favela',\n",
       " 'fbi',\n",
       " 'featur',\n",
       " 'ferri',\n",
       " 'fetish',\n",
       " 'fi',\n",
       " 'figur',\n",
       " 'film',\n",
       " 'fish',\n",
       " 'flick',\n",
       " 'flood',\n",
       " 'food',\n",
       " 'footbal',\n",
       " 'forecast',\n",
       " 'forster',\n",
       " 'franc',\n",
       " 'freak',\n",
       " 'freedom',\n",
       " 'friendship',\n",
       " 'fu',\n",
       " 'fugit',\n",
       " 'fun',\n",
       " 'funni',\n",
       " 'futur',\n",
       " 'gambl',\n",
       " 'gang',\n",
       " 'gangster',\n",
       " 'gard',\n",
       " 'garfunkel',\n",
       " 'geeki',\n",
       " 'gener',\n",
       " 'genocid',\n",
       " 'georg',\n",
       " 'ghost',\n",
       " 'girl',\n",
       " 'gogh',\n",
       " 'gold',\n",
       " 'goldberg',\n",
       " 'golf',\n",
       " 'good',\n",
       " 'gothic',\n",
       " 'gover',\n",
       " 'grace',\n",
       " 'graham',\n",
       " 'great',\n",
       " 'green',\n",
       " 'grey',\n",
       " 'grisham',\n",
       " 'gulf',\n",
       " 'gun',\n",
       " 'gunfight',\n",
       " 'guy',\n",
       " 'gyllenha',\n",
       " 'hal',\n",
       " 'hall',\n",
       " 'halloween',\n",
       " 'hallucinatori',\n",
       " 'hammerstein',\n",
       " 'hammett',\n",
       " 'hannib',\n",
       " 'harper',\n",
       " 'harri',\n",
       " 'hathaway',\n",
       " 'hawkey',\n",
       " 'hayworth',\n",
       " 'hearst',\n",
       " 'heartbreak',\n",
       " 'heartwarm',\n",
       " 'heist',\n",
       " 'hemingway',\n",
       " 'henri',\n",
       " 'hepburn',\n",
       " 'herman',\n",
       " 'hero',\n",
       " 'high',\n",
       " 'highschool',\n",
       " 'hilari',\n",
       " 'hinton',\n",
       " 'hip',\n",
       " 'hippi',\n",
       " 'histori',\n",
       " 'hit',\n",
       " 'hitchcock',\n",
       " 'hole',\n",
       " 'hollywood',\n",
       " 'holocaust',\n",
       " 'homeless',\n",
       " 'hoop',\n",
       " 'hop',\n",
       " 'hope',\n",
       " 'hopkin',\n",
       " 'hornbi',\n",
       " 'horribl',\n",
       " 'horror',\n",
       " 'hors',\n",
       " 'hospit',\n",
       " 'hostag',\n",
       " 'hudson',\n",
       " 'huey',\n",
       " 'hula',\n",
       " 'humor',\n",
       " 'hyde',\n",
       " 'ichabod',\n",
       " 'idolatri',\n",
       " 'ii',\n",
       " 'ill',\n",
       " 'illus',\n",
       " 'imax',\n",
       " 'immigr',\n",
       " 'incest',\n",
       " 'india',\n",
       " 'indian',\n",
       " 'inigo',\n",
       " 'insan',\n",
       " 'inspir',\n",
       " 'insur',\n",
       " 'intellectu',\n",
       " 'intellig',\n",
       " 'intens',\n",
       " 'interraci',\n",
       " 'invis',\n",
       " 'ireland',\n",
       " 'irrever',\n",
       " 'island',\n",
       " 'istanbul',\n",
       " 'itali',\n",
       " 'jacki',\n",
       " 'jake',\n",
       " 'jame',\n",
       " 'jane',\n",
       " 'japan',\n",
       " 'jare',\n",
       " 'jason',\n",
       " 'jean',\n",
       " 'jekyl',\n",
       " 'john',\n",
       " 'johnni',\n",
       " 'josh',\n",
       " 'joss',\n",
       " 'journal',\n",
       " 'judaism',\n",
       " 'jungl',\n",
       " 'kaufman',\n",
       " 'kevin',\n",
       " 'kidnap',\n",
       " 'kids',\n",
       " 'killer',\n",
       " 'king',\n",
       " 'kingsley',\n",
       " 'kirk',\n",
       " 'klingon',\n",
       " 'knight',\n",
       " 'la',\n",
       " 'larg',\n",
       " 'lawyer',\n",
       " 'lecter',\n",
       " 'lector',\n",
       " 'lee',\n",
       " 'leonardo',\n",
       " 'leopard',\n",
       " 'leto',\n",
       " 'lewi',\n",
       " 'like',\n",
       " 'live',\n",
       " 'lloyd',\n",
       " 'lonesom',\n",
       " 'long',\n",
       " 'loretta',\n",
       " 'loss',\n",
       " 'louisa',\n",
       " 'love',\n",
       " 'lynn',\n",
       " 'macbeth',\n",
       " 'mafia',\n",
       " 'magic',\n",
       " 'mail',\n",
       " 'male',\n",
       " 'man',\n",
       " 'marathon',\n",
       " 'marion',\n",
       " 'mark',\n",
       " 'marriag',\n",
       " 'martial',\n",
       " 'marx',\n",
       " 'matchmak',\n",
       " 'mathemat',\n",
       " 'mcgregor',\n",
       " 'memori',\n",
       " 'men',\n",
       " 'mental',\n",
       " 'mermaid',\n",
       " 'mice',\n",
       " 'michael',\n",
       " 'middl',\n",
       " 'militari',\n",
       " 'miller',\n",
       " 'mindfuck',\n",
       " 'mirror',\n",
       " 'miss',\n",
       " 'missionari',\n",
       " 'mockumentari',\n",
       " 'moldi',\n",
       " 'montoya',\n",
       " 'moon',\n",
       " 'motherhood',\n",
       " 'motor',\n",
       " 'mount',\n",
       " 'mountain',\n",
       " 'movi',\n",
       " 'mozart',\n",
       " 'mrs',\n",
       " 'multipl',\n",
       " 'muppet',\n",
       " 'murder',\n",
       " 'murray',\n",
       " 'music',\n",
       " 'mysteri',\n",
       " 'myth',\n",
       " 'nabokov',\n",
       " 'naiviti',\n",
       " 'narr',\n",
       " 'nasa',\n",
       " 'nazi',\n",
       " 'neil',\n",
       " 'nemo',\n",
       " 'netflix',\n",
       " 'new',\n",
       " 'nick',\n",
       " 'nicola',\n",
       " 'night',\n",
       " 'nightclub',\n",
       " 'nightmar',\n",
       " 'ninotchka',\n",
       " 'nogenreslisted',\n",
       " 'noir',\n",
       " 'nomin',\n",
       " 'nora',\n",
       " 'norton',\n",
       " 'nostalgia',\n",
       " 'notabl',\n",
       " 'nuclear',\n",
       " 'nuditi',\n",
       " 'nun',\n",
       " 'obsess',\n",
       " 'ock',\n",
       " 'ogr',\n",
       " 'oil',\n",
       " 'olymp',\n",
       " 'onc',\n",
       " 'organ',\n",
       " 'orphan',\n",
       " 'oscar',\n",
       " 'othello',\n",
       " 'overr',\n",
       " 'pacino',\n",
       " 'pageant',\n",
       " 'painter',\n",
       " 'pan',\n",
       " 'paranoia',\n",
       " 'parenthood',\n",
       " 'passion',\n",
       " 'peac',\n",
       " 'pearl',\n",
       " 'pee',\n",
       " 'penalti',\n",
       " 'person',\n",
       " 'peter',\n",
       " 'philosoph',\n",
       " 'photographi',\n",
       " 'pictur',\n",
       " 'pisstak',\n",
       " 'pitt',\n",
       " 'pixar',\n",
       " 'plan',\n",
       " 'plastic',\n",
       " 'play',\n",
       " 'plot',\n",
       " 'poetri',\n",
       " 'polecat',\n",
       " 'polic',\n",
       " 'polit',\n",
       " 'pool',\n",
       " 'poor',\n",
       " 'porter',\n",
       " 'post',\n",
       " 'pow',\n",
       " 'power',\n",
       " 'preacher',\n",
       " 'predict',\n",
       " 'pregnanc',\n",
       " 'prequel',\n",
       " 'presid',\n",
       " 'priest',\n",
       " 'princ',\n",
       " 'prison',\n",
       " 'prodigi',\n",
       " 'prostitut',\n",
       " 'provok',\n",
       " 'psychiatrist',\n",
       " 'psycholog',\n",
       " 'psychopath',\n",
       " 'pud',\n",
       " 'quaker',\n",
       " 'queue',\n",
       " 'quirki',\n",
       " 'race',\n",
       " 'rachel',\n",
       " 'racism',\n",
       " 'radcliff',\n",
       " 'radio',\n",
       " 'rape',\n",
       " 'rasicm',\n",
       " 'rat',\n",
       " 'ray',\n",
       " 'real',\n",
       " 'realiti',\n",
       " 'realli',\n",
       " 'recap',\n",
       " 'reciproc',\n",
       " 'religion',\n",
       " 'remad',\n",
       " 'remak',\n",
       " 'restaur',\n",
       " 'reunion',\n",
       " 'reveng',\n",
       " 'rich',\n",
       " 'rita',\n",
       " 'river',\n",
       " 'road',\n",
       " 'roald',\n",
       " 'rob',\n",
       " 'robot',\n",
       " 'rogen',\n",
       " 'roger',\n",
       " 'romanc',\n",
       " 'romant',\n",
       " 'rome',\n",
       " 'rosebud',\n",
       " 'ruffalo',\n",
       " 'rushmor',\n",
       " 'saint',\n",
       " 'salut',\n",
       " 'samberg',\n",
       " 'samurai',\n",
       " 'sandler',\n",
       " 'satir',\n",
       " 'saturday',\n",
       " 'savannah',\n",
       " 'saw',\n",
       " 'scandal',\n",
       " 'scenario',\n",
       " 'scene',\n",
       " 'sceneri',\n",
       " 'school',\n",
       " 'sci',\n",
       " 'scienc',\n",
       " 'screwbal',\n",
       " 'script',\n",
       " 'seen',\n",
       " 'semit',\n",
       " 'sequel',\n",
       " 'serial',\n",
       " 'seth',\n",
       " 'seuss',\n",
       " 'sexual',\n",
       " 'shakespear',\n",
       " 'shangri',\n",
       " 'shark',\n",
       " 'shaw',\n",
       " 'ship',\n",
       " 'shipwreck',\n",
       " 'short',\n",
       " 'shrimp',\n",
       " 'siam',\n",
       " 'simon',\n",
       " 'singleton',\n",
       " 'sirk',\n",
       " 'sister',\n",
       " 'sisterhood',\n",
       " 'skate',\n",
       " 'ski',\n",
       " 'slasher',\n",
       " 'slick',\n",
       " 'small',\n",
       " 'smart',\n",
       " 'smith',\n",
       " 'snl',\n",
       " 'soccer',\n",
       " 'sofia',\n",
       " 'someth',\n",
       " 'sort',\n",
       " 'south',\n",
       " 'southern',\n",
       " 'space',\n",
       " 'spaghetti',\n",
       " 'spectat',\n",
       " 'spell',\n",
       " 'spi',\n",
       " 'spider',\n",
       " 'spoof',\n",
       " 'sport',\n",
       " 'stage',\n",
       " 'stand',\n",
       " 'stapler',\n",
       " 'star',\n",
       " 'start',\n",
       " 'state',\n",
       " 'station',\n",
       " 'statu',\n",
       " 'stephen',\n",
       " 'stiller',\n",
       " 'stori',\n",
       " 'storylin',\n",
       " 'strand',\n",
       " 'stranger',\n",
       " 'submarin',\n",
       " 'subway',\n",
       " 'superhero',\n",
       " 'support',\n",
       " 'surf',\n",
       " 'surgeri',\n",
       " 'surreal',\n",
       " 'surviv',\n",
       " 'suspens',\n",
       " 'swashbuckl',\n",
       " 'tag',\n",
       " 'tale',\n",
       " 'teacher',\n",
       " 'teenag',\n",
       " 'televis',\n",
       " 'tennesse',\n",
       " 'termin',\n",
       " 'terror',\n",
       " 'test',\n",
       " 'thanksgiv',\n",
       " 'theater',\n",
       " 'theron',\n",
       " 'thewli',\n",
       " 'thi',\n",
       " 'thompson',\n",
       " 'thought',\n",
       " 'threesom',\n",
       " 'thriller',\n",
       " 'time',\n",
       " 'titan',\n",
       " 'tobacco',\n",
       " 'tolkein',\n",
       " 'tolstoy',\n",
       " 'tom',\n",
       " 'town',\n",
       " 'traci',\n",
       " 'train',\n",
       " 'transplant',\n",
       " 'transvestit',\n",
       " 'travel',\n",
       " 'trek',\n",
       " 'trip',\n",
       " 'trucker',\n",
       " 'true',\n",
       " 'truman',\n",
       " 'tv',\n",
       " 'twin',\n",
       " 'twist',\n",
       " 'ummarti2006',\n",
       " 'underestim',\n",
       " 'union',\n",
       " 'univers',\n",
       " 'vader',\n",
       " 'vampir',\n",
       " 'van',\n",
       " 'vertriloqu',\n",
       " 'veterinarian',\n",
       " 'vietnam',\n",
       " 'violenc',\n",
       " 'virgin',\n",
       " 'virtual',\n",
       " 'visual',\n",
       " 'von',\n",
       " 'voyeur',\n",
       " 'want',\n",
       " 'wapendrama',\n",
       " 'war',\n",
       " 'wave',\n",
       " 'way',\n",
       " 'weather',\n",
       " 'weber',\n",
       " 'wed',\n",
       " 'wee',\n",
       " 'weisz',\n",
       " 'werewolf',\n",
       " 'western',\n",
       " 'whale',\n",
       " 'wharton',\n",
       " 'whedon',\n",
       " 'wheel',\n",
       " 'whimsic',\n",
       " 'whit',\n",
       " 'white',\n",
       " 'whoopi',\n",
       " 'wild',\n",
       " 'william',\n",
       " 'wine',\n",
       " 'world',\n",
       " 'write',\n",
       " 'york',\n",
       " 'zombi']"
      ]
     },
     "execution_count": 78,
     "metadata": {},
     "output_type": "execute_result"
    }
   ],
   "source": [
    "count.get_feature_names()"
   ]
  },
  {
   "cell_type": "code",
   "execution_count": 79,
   "id": "d861dd52",
   "metadata": {},
   "outputs": [],
   "source": [
    "from sklearn.metrics.pairwise import cosine_similarity"
   ]
  },
  {
   "cell_type": "code",
   "execution_count": 80,
   "id": "5c597e08",
   "metadata": {},
   "outputs": [],
   "source": [
    "sim = cosine_similarity(arr_vac)"
   ]
  },
  {
   "cell_type": "code",
   "execution_count": 81,
   "id": "4d331601",
   "metadata": {},
   "outputs": [
    {
     "data": {
      "text/plain": [
       "array([[1.        , 0.66666667, 0.23570226, ..., 0.16666667, 0.3086067 ,\n",
       "        0.4330127 ],\n",
       "       [0.66666667, 1.        , 0.        , ..., 0.        , 0.3086067 ,\n",
       "        0.        ],\n",
       "       [0.23570226, 0.        , 1.        , ..., 0.23570226, 0.        ,\n",
       "        0.20412415],\n",
       "       ...,\n",
       "       [0.16666667, 0.        , 0.23570226, ..., 1.        , 0.46291005,\n",
       "        0.57735027],\n",
       "       [0.3086067 , 0.3086067 , 0.        , ..., 0.46291005, 1.        ,\n",
       "        0.40089186],\n",
       "       [0.4330127 , 0.        , 0.20412415, ..., 0.57735027, 0.40089186,\n",
       "        1.        ]])"
      ]
     },
     "execution_count": 81,
     "metadata": {},
     "output_type": "execute_result"
    }
   ],
   "source": [
    "sim"
   ]
  },
  {
   "cell_type": "code",
   "execution_count": 82,
   "id": "dccedb71",
   "metadata": {},
   "outputs": [
    {
     "data": {
      "text/plain": [
       "(1572, 1572)"
      ]
     },
     "execution_count": 82,
     "metadata": {},
     "output_type": "execute_result"
    }
   ],
   "source": [
    "sim.shape"
   ]
  },
  {
   "cell_type": "code",
   "execution_count": 83,
   "id": "e15ca3e3",
   "metadata": {},
   "outputs": [
    {
     "data": {
      "text/plain": [
       "array([1.        , 0.66666667, 0.23570226, ..., 0.16666667, 0.3086067 ,\n",
       "       0.4330127 ])"
      ]
     },
     "execution_count": 83,
     "metadata": {},
     "output_type": "execute_result"
    }
   ],
   "source": [
    "sim[0]"
   ]
  },
  {
   "cell_type": "code",
   "execution_count": 84,
   "id": "0e792798",
   "metadata": {},
   "outputs": [
    {
     "data": {
      "text/plain": [
       "[(544, 0.9128709291752769),\n",
       " (666, 0.8660254037844387),\n",
       " (1497, 0.7715167498104596),\n",
       " (506, 0.7302967433402215),\n",
       " (1016, 0.7302967433402215)]"
      ]
     },
     "execution_count": 84,
     "metadata": {},
     "output_type": "execute_result"
    }
   ],
   "source": [
    "sorted(list(enumerate(sim[0])),reverse=True,key=lambda x:x[1])[1:6]"
   ]
  },
  {
   "cell_type": "code",
   "execution_count": 85,
   "id": "042632d0",
   "metadata": {},
   "outputs": [],
   "source": [
    "def similarmovies(name):\n",
    "    name=name.strip()\n",
    "    name=name.title()\n",
    "    index = mov[mov['title'] == name].index[0]\n",
    "    dis = sorted(list(enumerate(sim[index])),reverse=True,key = lambda x: x[1])\n",
    "    for i in dis[1:6]:\n",
    "        print(mov.iloc[i[0]].title)\n",
    "        "
   ]
  },
  {
   "cell_type": "code",
   "execution_count": 94,
   "id": "87f4ed8f",
   "metadata": {},
   "outputs": [
    {
     "name": "stdout",
     "output_type": "stream",
     "text": [
      "Bug's Life, A\n",
      "Toy Story 2\n",
      "The Lego Movie\n",
      "Lord of the Rings, The\n",
      "Finding Nemo\n"
     ]
    }
   ],
   "source": [
    "similarmovies('toy story')"
   ]
  },
  {
   "cell_type": "code",
   "execution_count": 87,
   "id": "15c59550",
   "metadata": {},
   "outputs": [
    {
     "data": {
      "text/html": [
       "<div>\n",
       "<style scoped>\n",
       "    .dataframe tbody tr th:only-of-type {\n",
       "        vertical-align: middle;\n",
       "    }\n",
       "\n",
       "    .dataframe tbody tr th {\n",
       "        vertical-align: top;\n",
       "    }\n",
       "\n",
       "    .dataframe thead th {\n",
       "        text-align: right;\n",
       "    }\n",
       "</style>\n",
       "<table border=\"1\" class=\"dataframe\">\n",
       "  <thead>\n",
       "    <tr style=\"text-align: right;\">\n",
       "      <th></th>\n",
       "      <th>movieId</th>\n",
       "      <th>title</th>\n",
       "      <th>tag</th>\n",
       "    </tr>\n",
       "  </thead>\n",
       "  <tbody>\n",
       "    <tr>\n",
       "      <th>0</th>\n",
       "      <td>1</td>\n",
       "      <td>Toy Story</td>\n",
       "      <td>adventur anim children comedi fantasi pixar</td>\n",
       "    </tr>\n",
       "    <tr>\n",
       "      <th>3</th>\n",
       "      <td>2</td>\n",
       "      <td>Jumanji</td>\n",
       "      <td>adventur children fantasi fantasi</td>\n",
       "    </tr>\n",
       "    <tr>\n",
       "      <th>7</th>\n",
       "      <td>3</td>\n",
       "      <td>Grumpier Old Men</td>\n",
       "      <td>comedi romanc moldi</td>\n",
       "    </tr>\n",
       "    <tr>\n",
       "      <th>9</th>\n",
       "      <td>5</td>\n",
       "      <td>Father of the Bride Part II</td>\n",
       "      <td>comedi pregnanc</td>\n",
       "    </tr>\n",
       "    <tr>\n",
       "      <th>11</th>\n",
       "      <td>7</td>\n",
       "      <td>Sabrina</td>\n",
       "      <td>comedi romanc remak</td>\n",
       "    </tr>\n",
       "  </tbody>\n",
       "</table>\n",
       "</div>"
      ],
      "text/plain": [
       "    movieId                        title  \\\n",
       "0         1                    Toy Story   \n",
       "3         2                      Jumanji   \n",
       "7         3             Grumpier Old Men   \n",
       "9         5  Father of the Bride Part II   \n",
       "11        7                      Sabrina   \n",
       "\n",
       "                                            tag  \n",
       "0   adventur anim children comedi fantasi pixar  \n",
       "3             adventur children fantasi fantasi  \n",
       "7                           comedi romanc moldi  \n",
       "9                               comedi pregnanc  \n",
       "11                          comedi romanc remak  "
      ]
     },
     "execution_count": 87,
     "metadata": {},
     "output_type": "execute_result"
    }
   ],
   "source": [
    "mov.head()"
   ]
  },
  {
   "cell_type": "code",
   "execution_count": 88,
   "id": "7191e12d",
   "metadata": {},
   "outputs": [
    {
     "data": {
      "text/plain": [
       "(1572, 3)"
      ]
     },
     "execution_count": 88,
     "metadata": {},
     "output_type": "execute_result"
    }
   ],
   "source": [
    "mov.shape"
   ]
  },
  {
   "cell_type": "code",
   "execution_count": 89,
   "id": "bac44422",
   "metadata": {},
   "outputs": [],
   "source": [
    "import pickle"
   ]
  },
  {
   "cell_type": "code",
   "execution_count": 90,
   "id": "8f7dfe15",
   "metadata": {},
   "outputs": [],
   "source": [
    "pickle.dump(mov.to_dict(),open(\"movdata.pkl\",\"wb\"))"
   ]
  },
  {
   "cell_type": "code",
   "execution_count": 91,
   "id": "74433269",
   "metadata": {},
   "outputs": [],
   "source": [
    "pickle.dump(sim,open('sim.pkl','wb'))"
   ]
  },
  {
   "cell_type": "code",
   "execution_count": null,
   "id": "a19b5ae2",
   "metadata": {},
   "outputs": [],
   "source": []
  },
  {
   "cell_type": "code",
   "execution_count": null,
   "id": "1eccef06",
   "metadata": {},
   "outputs": [],
   "source": []
  }
 ],
 "metadata": {
  "kernelspec": {
   "display_name": "Python 3 (ipykernel)",
   "language": "python",
   "name": "python3"
  },
  "language_info": {
   "codemirror_mode": {
    "name": "ipython",
    "version": 3
   },
   "file_extension": ".py",
   "mimetype": "text/x-python",
   "name": "python",
   "nbconvert_exporter": "python",
   "pygments_lexer": "ipython3",
   "version": "3.9.7"
  }
 },
 "nbformat": 4,
 "nbformat_minor": 5
}
